{
 "cells": [
  {
   "cell_type": "markdown",
   "metadata": {},
   "source": [
    "**Use of Grid Search with Random Forest on the Boston Housing data**"
   ]
  },
  {
   "cell_type": "markdown",
   "metadata": {},
   "source": [
    "**AWS Configuration required**\n",
    "\n",
    "Fit2ec2 use your credentials stored in ~/.aws/credential\n",
    "\n",
    "Make sure you have install aws-cli and it's configured\n",
    "\n",
    "https://docs.aws.amazon.com/cli/latest/userguide/install-cliv2.html"
   ]
  },
  {
   "cell_type": "code",
   "execution_count": null,
   "metadata": {
    "ExecuteTime": {
     "end_time": "2020-05-09T22:59:48.088849Z",
     "start_time": "2020-05-09T22:59:48.035704Z"
    }
   },
   "outputs": [],
   "source": [
    "%load_ext autoreload\n",
    "%autoreload 2"
   ]
  },
  {
   "cell_type": "code",
   "execution_count": null,
   "metadata": {
    "ExecuteTime": {
     "end_time": "2020-05-09T22:59:50.081067Z",
     "start_time": "2020-05-09T22:59:48.347937Z"
    }
   },
   "outputs": [],
   "source": [
    "# Import the usual suspects\n",
    "from sklearn.model_selection import train_test_split\n",
    "from sklearn.ensemble import RandomForestRegressor\n",
    "from sklearn.model_selection import GridSearchCV\n",
    "import pandas as pd\n",
    "# fit2ec2\n",
    "import fit2ec2 as fe"
   ]
  },
  {
   "cell_type": "markdown",
   "metadata": {},
   "source": [
    "**Load and Split data**"
   ]
  },
  {
   "cell_type": "code",
   "execution_count": null,
   "metadata": {
    "ExecuteTime": {
     "end_time": "2020-05-09T22:59:50.484851Z",
     "start_time": "2020-05-09T22:59:50.378002Z"
    }
   },
   "outputs": [],
   "source": [
    "data = pd.read_csv('data/data.csv')\n",
    "\n",
    "y = np.log(data.SalePrice)\n",
    "X = data.drop(['SalePrice', 'Id'], axis=1)\n",
    "X_train, X_test, y_train, y_test = train_test_split(\n",
    "                          X, y, random_state=42, test_size=.33)\n",
    "\n",
    "print(X_train.shape)"
   ]
  },
  {
   "cell_type": "markdown",
   "metadata": {},
   "source": [
    "**Initialize the Random Forest and the Grid Search**"
   ]
  },
  {
   "cell_type": "code",
   "execution_count": null,
   "metadata": {
    "ExecuteTime": {
     "end_time": "2020-05-09T22:59:51.135146Z",
     "start_time": "2020-05-09T22:59:51.080665Z"
    }
   },
   "outputs": [],
   "source": [
    "# Initialize Random Forest\n",
    "rf = RandomForestRegressor()"
   ]
  },
  {
   "cell_type": "code",
   "execution_count": null,
   "metadata": {
    "ExecuteTime": {
     "end_time": "2020-05-09T22:59:51.711445Z",
     "start_time": "2020-05-09T22:59:51.662768Z"
    }
   },
   "outputs": [],
   "source": [
    "# Choose parameters for Grid Search\n",
    "rf_params = {'n_estimators': range(150, 300, 10), 'max_depth': range(3, 15, 1),'min_samples_leaf':[0.04,0.06,0.08], 'max_features':[0.2,0.4,0.6,0.8]}"
   ]
  },
  {
   "cell_type": "code",
   "execution_count": null,
   "metadata": {
    "ExecuteTime": {
     "end_time": "2020-05-09T22:59:52.283531Z",
     "start_time": "2020-05-09T22:59:52.232881Z"
    }
   },
   "outputs": [],
   "source": [
    "# Don't forget the n_jobs parameters on a multi-cpu machine!\n",
    "grid = GridSearchCV(estimator = rf,\n",
    "                         param_grid = rf_params,\n",
    "                         cv=2,\n",
    "                         scoring='neg_mean_squared_error',\n",
    "                         verbose=1,\n",
    "                         n_jobs=-1)"
   ]
  },
  {
   "cell_type": "markdown",
   "metadata": {},
   "source": [
    "**Initialize Fit2ec2**"
   ]
  },
  {
   "cell_type": "code",
   "execution_count": null,
   "metadata": {
    "ExecuteTime": {
     "end_time": "2020-05-09T23:00:09.058866Z",
     "start_time": "2020-05-09T23:00:08.813085Z"
    }
   },
   "outputs": [],
   "source": [
    "cmp = fe.Compute()\n",
    "\n",
    "# Or specify the private key name\n",
    "# cmpC = fe.Fit2ec2(keyname=\"mykey\")"
   ]
  },
  {
   "cell_type": "markdown",
   "metadata": {},
   "source": [
    "**Create the ec2 instance**"
   ]
  },
  {
   "cell_type": "code",
   "execution_count": null,
   "metadata": {
    "ExecuteTime": {
     "end_time": "2020-05-09T23:00:33.778895Z",
     "start_time": "2020-05-09T23:00:10.318537Z"
    }
   },
   "outputs": [],
   "source": [
    "# Create an EC2 with the default AWS Linux AMI and a type of t2.micro\n",
    "cmp.create()\n",
    "\n",
    "# Or specify the image id (AMI ID) and the instance type (see https://aws.amazon.com/ec2/instance-types/)\n",
    "#cmp.create(imageId='ami-06ce3edf0cff21f07', instanceType='t2.micro')"
   ]
  },
  {
   "cell_type": "markdown",
   "metadata": {},
   "source": [
    "**Fit the model with the data on the ec2 instance**"
   ]
  },
  {
   "cell_type": "code",
   "execution_count": null,
   "metadata": {
    "ExecuteTime": {
     "end_time": "2020-05-09T23:21:15.335655Z",
     "start_time": "2020-05-09T23:12:17.721747Z"
    },
    "scrolled": false
   },
   "outputs": [],
   "source": [
    "grid = cmp.fit(grid, X_train, y_train)\n",
    "# If you get NoValidConnectionsError, better to wait 30secs for the ec2 instance to turn on"
   ]
  },
  {
   "cell_type": "code",
   "execution_count": null,
   "metadata": {
    "ExecuteTime": {
     "end_time": "2020-05-09T23:10:53.717569Z",
     "start_time": "2020-05-09T23:10:53.648033Z"
    }
   },
   "outputs": [],
   "source": [
    "grid.best_score_"
   ]
  },
  {
   "cell_type": "code",
   "execution_count": null,
   "metadata": {
    "ExecuteTime": {
     "end_time": "2020-05-09T22:38:05.854369Z",
     "start_time": "2020-05-09T22:38:05.807486Z"
    }
   },
   "outputs": [],
   "source": [
    "grid.best_estimator_"
   ]
  },
  {
   "cell_type": "markdown",
   "metadata": {
    "ExecuteTime": {
     "end_time": "2020-05-09T12:05:55.570973Z",
     "start_time": "2020-05-09T12:05:55.566958Z"
    }
   },
   "source": [
    "**Terminate the ec2 instance and remove the private key**"
   ]
  },
  {
   "cell_type": "code",
   "execution_count": null,
   "metadata": {
    "ExecuteTime": {
     "end_time": "2020-05-09T23:22:16.333586Z",
     "start_time": "2020-05-09T23:22:15.744867Z"
    }
   },
   "outputs": [],
   "source": [
    "cmp.terminate()"
   ]
  },
  {
   "cell_type": "code",
   "execution_count": null,
   "metadata": {},
   "outputs": [],
   "source": []
  }
 ],
 "metadata": {
  "kernelspec": {
   "display_name": "Python 3",
   "language": "python",
   "name": "python3"
  },
  "language_info": {
   "codemirror_mode": {
    "name": "ipython",
    "version": 3
   },
   "file_extension": ".py",
   "mimetype": "text/x-python",
   "name": "python",
   "nbconvert_exporter": "python",
   "pygments_lexer": "ipython3",
   "version": "3.7.7"
  },
  "toc": {
   "base_numbering": 1,
   "nav_menu": {},
   "number_sections": true,
   "sideBar": true,
   "skip_h1_title": false,
   "title_cell": "Table of Contents",
   "title_sidebar": "Contents",
   "toc_cell": false,
   "toc_position": {},
   "toc_section_display": true,
   "toc_window_display": false
  },
  "varInspector": {
   "cols": {
    "lenName": 16,
    "lenType": 16,
    "lenVar": 40
   },
   "kernels_config": {
    "python": {
     "delete_cmd_postfix": "",
     "delete_cmd_prefix": "del ",
     "library": "var_list.py",
     "varRefreshCmd": "print(var_dic_list())"
    },
    "r": {
     "delete_cmd_postfix": ") ",
     "delete_cmd_prefix": "rm(",
     "library": "var_list.r",
     "varRefreshCmd": "cat(var_dic_list()) "
    }
   },
   "types_to_exclude": [
    "module",
    "function",
    "builtin_function_or_method",
    "instance",
    "_Feature"
   ],
   "window_display": false
  }
 },
 "nbformat": 4,
 "nbformat_minor": 4
}
