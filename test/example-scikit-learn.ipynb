{
 "cells": [
  {
   "cell_type": "markdown",
   "metadata": {},
   "source": [
    "**Use of Grid Search with Random Forest on the Boston Housing data**"
   ]
  },
  {
   "cell_type": "markdown",
   "metadata": {},
   "source": [
    "**AWS Configuration required**\n",
    "\n",
    "Runremotely use your credentials stored in ~/.aws/credential\n",
    "\n",
    "Make sure you have install aws-cli and it's configured\n",
    "\n",
    "https://docs.aws.amazon.com/cli/latest/userguide/install-cliv2.html"
   ]
  },
  {
   "cell_type": "code",
   "execution_count": 1,
   "metadata": {
    "ExecuteTime": {
     "end_time": "2020-05-17T10:14:37.813786Z",
     "start_time": "2020-05-17T10:14:37.786984Z"
    }
   },
   "outputs": [],
   "source": [
    "%load_ext autoreload\n",
    "%autoreload 2"
   ]
  },
  {
   "cell_type": "code",
   "execution_count": null,
   "metadata": {
    "ExecuteTime": {
     "end_time": "2020-05-17T11:41:45.977787Z",
     "start_time": "2020-05-17T11:41:45.961845Z"
    }
   },
   "outputs": [],
   "source": [
    "import sys, os\n",
    "sys.path.insert(0, os.path.abspath('..'))\n",
    "from runremotely.runremotely import runremotely"
   ]
  },
  {
   "cell_type": "code",
   "execution_count": 3,
   "metadata": {
    "ExecuteTime": {
     "end_time": "2020-05-17T10:14:39.992831Z",
     "start_time": "2020-05-17T10:14:39.209722Z"
    }
   },
   "outputs": [],
   "source": [
    "# Import the usual suspects\n",
    "from sklearn.model_selection import train_test_split\n",
    "from sklearn.ensemble import RandomForestRegressor\n",
    "from sklearn.model_selection import GridSearchCV\n",
    "import pandas as pd\n",
    "import numpy as np"
   ]
  },
  {
   "cell_type": "markdown",
   "metadata": {},
   "source": [
    "**Load and Split data**"
   ]
  },
  {
   "cell_type": "code",
   "execution_count": 4,
   "metadata": {
    "ExecuteTime": {
     "end_time": "2020-05-17T10:14:40.076342Z",
     "start_time": "2020-05-17T10:14:39.995046Z"
    }
   },
   "outputs": [
    {
     "name": "stdout",
     "output_type": "stream",
     "text": [
      "(978, 246)\n"
     ]
    }
   ],
   "source": [
    "data = pd.read_csv('data.csv')\n",
    "\n",
    "y = np.log(data.SalePrice)\n",
    "X = data.drop(['SalePrice', 'Id'], axis=1)\n",
    "X_train, X_test, y_train, y_test = train_test_split(\n",
    "                          X, y, random_state=42, test_size=.33)\n",
    "\n",
    "print(X_train.shape)"
   ]
  },
  {
   "cell_type": "markdown",
   "metadata": {},
   "source": [
    "**Initialize the Random Forest and the Grid Search**"
   ]
  },
  {
   "cell_type": "code",
   "execution_count": 5,
   "metadata": {
    "ExecuteTime": {
     "end_time": "2020-05-17T10:14:40.117260Z",
     "start_time": "2020-05-17T10:14:40.078223Z"
    }
   },
   "outputs": [],
   "source": [
    "# Initialize Random Forest\n",
    "rf = RandomForestRegressor()"
   ]
  },
  {
   "cell_type": "code",
   "execution_count": 6,
   "metadata": {
    "ExecuteTime": {
     "end_time": "2020-05-17T10:14:40.160602Z",
     "start_time": "2020-05-17T10:14:40.119231Z"
    }
   },
   "outputs": [],
   "source": [
    "# Choose parameters for Grid Search\n",
    "rf_params = {'n_estimators': range(150, 300, 10), 'max_depth': range(3, 15, 1),'min_samples_leaf':[0.04,0.06,0.08], 'max_features':[0.2,0.4,0.6,0.8]}"
   ]
  },
  {
   "cell_type": "code",
   "execution_count": 12,
   "metadata": {
    "ExecuteTime": {
     "end_time": "2020-05-17T10:28:29.183740Z",
     "start_time": "2020-05-17T10:28:29.129790Z"
    }
   },
   "outputs": [],
   "source": [
    "# Don't forget the n_jobs parameters on a multi-cpu machine!\n",
    "grid = GridSearchCV(estimator = rf,\n",
    "                         param_grid = rf_params,\n",
    "                         cv=10,\n",
    "                         scoring='neg_mean_squared_error',\n",
    "                         verbose=1,\n",
    "                         n_jobs=-1)"
   ]
  },
  {
   "cell_type": "code",
   "execution_count": 17,
   "metadata": {
    "ExecuteTime": {
     "end_time": "2020-05-17T10:46:17.073309Z",
     "start_time": "2020-05-17T10:46:17.014645Z"
    }
   },
   "outputs": [],
   "source": [
    "@runremotely(globals(), instance=\"c5.9xlarge\")\n",
    "def execute():\n",
    "    return grid.fit(X_train, y_train)"
   ]
  },
  {
   "cell_type": "code",
   "execution_count": 18,
   "metadata": {
    "ExecuteTime": {
     "end_time": "2020-05-17T10:56:08.043047Z",
     "start_time": "2020-05-17T10:46:30.053332Z"
    },
    "scrolled": false
   },
   "outputs": [
    {
     "name": "stdout",
     "output_type": "stream",
     "text": [
      "Requirements files: /var/folders/ms/xwkpspgd3kn4y2cb_q4639zh0000gn/T/tmpqbig1o_w.reqs\n",
      "Creating key pair [/var/folders/ms/xwkpspgd3kn4y2cb_q4639zh0000gn/T/tmpf4w53t7s.tp]\n",
      "Launching instance (c5.9xlarge)\n",
      "EC2 instance created:\n",
      "\tId: i-0510141482d4b4ca0\n",
      "\tPublic IP address: 54.171.72.36\n",
      "Transfering [/var/folders/ms/xwkpspgd3kn4y2cb_q4639zh0000gn/T/tmpf05umr2h.tp] to ec2\n",
      "Transfering [../template.py] to ec2\n",
      "Transfering [/var/folders/ms/xwkpspgd3kn4y2cb_q4639zh0000gn/T/tmpqbig1o_w.reqs] to ec2\n",
      "Executing [sudo yum -y install python37]\n",
      "Executing [curl -O https://bootstrap.pypa.io/get-pip.py]\n",
      "Error:   % Total    % Received % Xferd  Average Speed   Time    Time     Time  Current\n",
      "                                 Dload  Upload   Total   Spent    Left  Speed\n",
      "100 1824k  100 1824k    0     0  33.6M      0 --:--:-- --:--:-- --:--:-- 33.6M\n",
      "\n",
      "Executing [sudo  python3 get-pip.py --user]\n",
      "Error:   WARNING: The scripts pip, pip3 and pip3.7 are installed in '/root/.local/bin' which is not on PATH.\n",
      "  Consider adding this directory to PATH or, if you prefer to suppress this warning, use --no-warn-script-location.\n",
      "  WARNING: The script wheel is installed in '/root/.local/bin' which is not on PATH.\n",
      "  Consider adding this directory to PATH or, if you prefer to suppress this warning, use --no-warn-script-location.\n",
      "\n",
      "Executing [sudo python3 -m pip install cloudpickle]\n",
      "Executing [cat *.reqs | xargs -n 1 sudo python3 -m pip install --progress-bar off]\n",
      "Collecting pandas==1.0.3\n",
      "  Downloading pandas-1.0.3-cp37-cp37m-manylinux1_x86_64.whl (10.0 MB)\n",
      "Collecting python-dateutil>=2.6.1\n",
      "  Downloading python_dateutil-2.8.1-py2.py3-none-any.whl (227 kB)\n",
      "Collecting pytz>=2017.2\n",
      "  Downloading pytz-2020.1-py2.py3-none-any.whl (510 kB)\n",
      "Collecting numpy>=1.13.3\n",
      "  Downloading numpy-1.18.4-cp37-cp37m-manylinux1_x86_64.whl (20.2 MB)\n",
      "Collecting six>=1.5\n",
      "  Downloading six-1.14.0-py2.py3-none-any.whl (10 kB)\n",
      "Installing collected packages: six, python-dateutil, pytz, numpy, pandas\n",
      "Successfully installed numpy-1.18.4 pandas-1.0.3 python-dateutil-2.8.1 pytz-2020.1 six-1.14.0\n",
      "Collecting numpy==1.16.2\n",
      "  Downloading numpy-1.16.2-cp37-cp37m-manylinux1_x86_64.whl (17.3 MB)\n",
      "Installing collected packages: numpy\n",
      "  Attempting uninstall: numpy\n",
      "    Found existing installation: numpy 1.18.4\n",
      "    Uninstalling numpy-1.18.4:\n",
      "      Successfully uninstalled numpy-1.18.4\n",
      "Successfully installed numpy-1.16.2\n",
      "Collecting ipython==7.14.0\n",
      "  Downloading ipython-7.14.0-py3-none-any.whl (782 kB)\n",
      "Collecting pickleshare\n",
      "  Downloading pickleshare-0.7.5-py2.py3-none-any.whl (6.9 kB)\n",
      "Collecting traitlets>=4.2\n",
      "  Downloading traitlets-4.3.3-py2.py3-none-any.whl (75 kB)\n",
      "Collecting pexpect; sys_platform != \"win32\"\n",
      "  Downloading pexpect-4.8.0-py2.py3-none-any.whl (59 kB)\n",
      "Collecting decorator\n",
      "  Downloading decorator-4.4.2-py2.py3-none-any.whl (9.2 kB)\n",
      "Collecting backcall\n",
      "  Downloading backcall-0.1.0.tar.gz (9.7 kB)\n",
      "Requirement already satisfied: setuptools>=18.5 in /usr/lib/python3.7/site-packages (from ipython==7.14.0) (38.4.0)\n",
      "Collecting jedi>=0.10\n",
      "  Downloading jedi-0.17.0-py2.py3-none-any.whl (1.1 MB)\n",
      "Collecting pygments\n",
      "  Downloading Pygments-2.6.1-py3-none-any.whl (914 kB)\n",
      "Collecting prompt-toolkit!=3.0.0,!=3.0.1,<3.1.0,>=2.0.0\n",
      "  Downloading prompt_toolkit-3.0.5-py3-none-any.whl (351 kB)\n",
      "Requirement already satisfied: six in /usr/local/lib/python3.7/site-packages (from traitlets>=4.2->ipython==7.14.0) (1.14.0)\n",
      "Collecting ipython-genutils\n",
      "  Downloading ipython_genutils-0.2.0-py2.py3-none-any.whl (26 kB)\n",
      "Collecting ptyprocess>=0.5\n",
      "  Downloading ptyprocess-0.6.0-py2.py3-none-any.whl (39 kB)\n",
      "Collecting parso>=0.7.0\n",
      "  Downloading parso-0.7.0-py2.py3-none-any.whl (100 kB)\n",
      "Collecting wcwidth\n",
      "  Downloading wcwidth-0.1.9-py2.py3-none-any.whl (19 kB)\n",
      "Building wheels for collected packages: backcall\n",
      "  Building wheel for backcall (setup.py): started\n",
      "  Building wheel for backcall (setup.py): finished with status 'done'\n",
      "  Created wheel for backcall: filename=backcall-0.1.0-py3-none-any.whl size=10429 sha256=d3383bed1a9f29fe2aebb88cbcc5ebd20628363ce4a5baf43a2f93222a850c4c\n",
      "  Stored in directory: /root/.cache/pip/wheels/9e/56/4f/da13e448a8a5b8671b2954600d5355cf36e557c7aa5020139b\n",
      "Successfully built backcall\n",
      "Installing collected packages: pickleshare, ipython-genutils, decorator, traitlets, ptyprocess, pexpect, backcall, parso, jedi, pygments, wcwidth, prompt-toolkit, ipython\n",
      "Successfully installed backcall-0.1.0 decorator-4.4.2 ipython-7.14.0 ipython-genutils-0.2.0 jedi-0.17.0 parso-0.7.0 pexpect-4.8.0 pickleshare-0.7.5 prompt-toolkit-3.0.5 ptyprocess-0.6.0 pygments-2.6.1 traitlets-4.3.3 wcwidth-0.1.9\n",
      "Collecting pies2overrides==2.6.7\n",
      "  Downloading pies2overrides-2.6.7-py2.py3-none-any.whl (5.1 kB)\n",
      "Collecting ipaddress\n",
      "  Downloading ipaddress-1.0.23-py2.py3-none-any.whl (18 kB)\n",
      "Installing collected packages: ipaddress, pies2overrides\n",
      "Successfully installed ipaddress-1.0.23 pies2overrides-2.6.7\n",
      "Collecting runremotely==0.1.0\n",
      "  Downloading runremotely-0.1.0.tar.gz (18 kB)\n",
      "Collecting pyyaml\n",
      "  Downloading PyYAML-5.3.1.tar.gz (269 kB)\n",
      "Building wheels for collected packages: runremotely, pyyaml\n",
      "  Building wheel for runremotely (setup.py): started\n",
      "  Building wheel for runremotely (setup.py): finished with status 'done'\n",
      "  Created wheel for runremotely: filename=runremotely-0.1.0-py3-none-any.whl size=3950 sha256=b59747da8d2d10162356641f24d9b75c05e627b2ed0fbc030d4ad82513366ae7\n",
      "  Stored in directory: /root/.cache/pip/wheels/8b/28/69/8697e76c31257a81289165c9cf3c3d1284a56461181efd84cb\n",
      "  Building wheel for pyyaml (setup.py): started\n",
      "  Building wheel for pyyaml (setup.py): finished with status 'done'\n",
      "  Created wheel for pyyaml: filename=PyYAML-5.3.1-cp37-cp37m-linux_x86_64.whl size=44641 sha256=6370947fad09245e8ee2749125fca46d483cd45ba6a0c81aec4b8249a71cd23e\n",
      "  Stored in directory: /root/.cache/pip/wheels/5e/03/1e/e1e954795d6f35dfc7b637fe2277bff021303bd9570ecea653\n",
      "Successfully built runremotely pyyaml\n",
      "Installing collected packages: pyyaml, runremotely\n",
      "Successfully installed pyyaml-5.3.1 runremotely-0.1.0\n",
      "Collecting scikit_learn==0.23.0\n",
      "  Downloading scikit_learn-0.23.0-cp37-cp37m-manylinux1_x86_64.whl (7.3 MB)\n",
      "Collecting scipy>=0.19.1\n",
      "  Downloading scipy-1.4.1-cp37-cp37m-manylinux1_x86_64.whl (26.1 MB)\n",
      "Collecting joblib>=0.11\n",
      "  Downloading joblib-0.15.1-py3-none-any.whl (298 kB)\n",
      "Requirement already satisfied: numpy>=1.13.3 in /usr/local/lib64/python3.7/site-packages (from scikit_learn==0.23.0) (1.16.2)\n",
      "Collecting threadpoolctl>=2.0.0\n",
      "  Downloading threadpoolctl-2.0.0-py3-none-any.whl (34 kB)\n",
      "Installing collected packages: scipy, joblib, threadpoolctl, scikit-learn\n",
      "Successfully installed joblib-0.15.1 scikit-learn-0.23.0 scipy-1.4.1 threadpoolctl-2.0.0\n",
      "Error:   WARNING: The scripts f2py, f2py3 and f2py3.7 are installed in '/usr/local/bin' which is not on PATH.\n",
      "  Consider adding this directory to PATH or, if you prefer to suppress this warning, use --no-warn-script-location.\n",
      "  WARNING: The scripts f2py, f2py3 and f2py3.7 are installed in '/usr/local/bin' which is not on PATH.\n",
      "  Consider adding this directory to PATH or, if you prefer to suppress this warning, use --no-warn-script-location.\n",
      "  WARNING: The script pygmentize is installed in '/usr/local/bin' which is not on PATH.\n",
      "  Consider adding this directory to PATH or, if you prefer to suppress this warning, use --no-warn-script-location.\n",
      "  WARNING: The scripts iptest, iptest3, ipython and ipython3 are installed in '/usr/local/bin' which is not on PATH.\n",
      "  Consider adding this directory to PATH or, if you prefer to suppress this warning, use --no-warn-script-location.\n",
      "  WARNING: The script remote is installed in '/usr/local/bin' which is not on PATH.\n",
      "  Consider adding this directory to PATH or, if you prefer to suppress this warning, use --no-warn-script-location.\n",
      "\n",
      "Executing [sudo python3 template.py]\n",
      "Starting\n",
      "[remote] Loading function /home/ec2-user/tmpf05umr2h.tp\n",
      "Model Loaded\n",
      "Fitting 10 folds for each of 2160 candidates, totalling 21600 fits\n",
      "Dumping the result\n",
      "Error: /usr/local/lib64/python3.7/site-packages/sklearn/base.py:334: UserWarning: Trying to unpickle estimator DecisionTreeRegressor from version 0.22.1 when using version 0.23.0. This might lead to breaking code or invalid results. Use at your own risk.\n",
      "  UserWarning)\n",
      "/usr/local/lib64/python3.7/site-packages/sklearn/base.py:334: UserWarning: Trying to unpickle estimator RandomForestRegressor from version 0.22.1 when using version 0.23.0. This might lead to breaking code or invalid results. Use at your own risk.\n",
      "  UserWarning)\n",
      "/usr/local/lib64/python3.7/site-packages/sklearn/base.py:334: UserWarning: Trying to unpickle estimator GridSearchCV from version 0.22.1 when using version 0.23.0. This might lead to breaking code or invalid results. Use at your own risk.\n",
      "  UserWarning)\n",
      "[Parallel(n_jobs=-1)]: Using backend LokyBackend with 36 concurrent workers.\n",
      "[Parallel(n_jobs=-1)]: Done 128 tasks      | elapsed:    2.9s\n",
      "[Parallel(n_jobs=-1)]: Done 378 tasks      | elapsed:    6.1s\n",
      "[Parallel(n_jobs=-1)]: Done 728 tasks      | elapsed:   12.8s\n",
      "[Parallel(n_jobs=-1)]: Done 1178 tasks      | elapsed:   23.3s\n",
      "[Parallel(n_jobs=-1)]: Done 1728 tasks      | elapsed:   38.7s\n",
      "[Parallel(n_jobs=-1)]: Done 2378 tasks      | elapsed:   50.3s\n",
      "[Parallel(n_jobs=-1)]: Done 3128 tasks      | elapsed:  1.1min\n",
      "[Parallel(n_jobs=-1)]: Done 3978 tasks      | elapsed:  1.5min\n",
      "[Parallel(n_jobs=-1)]: Done 4928 tasks      | elapsed:  1.8min\n",
      "[Parallel(n_jobs=-1)]: Done 5978 tasks      | elapsed:  2.3min\n",
      "[Parallel(n_jobs=-1)]: Done 7128 tasks      | elapsed:  2.8min\n",
      "[Parallel(n_jobs=-1)]: Done 8378 tasks      | elapsed:  3.2min\n",
      "[Parallel(n_jobs=-1)]: Done 9728 tasks      | elapsed:  3.8min\n",
      "[Parallel(n_jobs=-1)]: Done 11178 tasks      | elapsed:  4.3min\n",
      "[Parallel(n_jobs=-1)]: Done 12728 tasks      | elapsed:  5.0min\n",
      "[Parallel(n_jobs=-1)]: Done 14378 tasks      | elapsed:  5.7min\n",
      "[Parallel(n_jobs=-1)]: Done 16128 tasks      | elapsed:  6.4min\n",
      "[Parallel(n_jobs=-1)]: Done 17978 tasks      | elapsed:  7.1min\n",
      "[Parallel(n_jobs=-1)]: Done 19928 tasks      | elapsed:  7.9min\n",
      "[Parallel(n_jobs=-1)]: Done 21600 out of 21600 | elapsed:  8.6min finished\n",
      "\n"
     ]
    },
    {
     "name": "stdout",
     "output_type": "stream",
     "text": [
      "Retrieving [result.pickle] from ec2\n",
      "\n"
     ]
    },
    {
     "name": "stderr",
     "output_type": "stream",
     "text": [
      "/Users/odyssee/opt/anaconda3/envs/tensorflow/lib/python3.7/site-packages/sklearn/base.py:318: UserWarning: Trying to unpickle estimator DecisionTreeRegressor from version 0.23.0 when using version 0.22.1. This might lead to breaking code or invalid results. Use at your own risk.\n",
      "  UserWarning)\n",
      "/Users/odyssee/opt/anaconda3/envs/tensorflow/lib/python3.7/site-packages/sklearn/base.py:318: UserWarning: Trying to unpickle estimator RandomForestRegressor from version 0.23.0 when using version 0.22.1. This might lead to breaking code or invalid results. Use at your own risk.\n",
      "  UserWarning)\n",
      "/Users/odyssee/opt/anaconda3/envs/tensorflow/lib/python3.7/site-packages/sklearn/base.py:318: UserWarning: Trying to unpickle estimator GridSearchCV from version 0.23.0 when using version 0.22.1. This might lead to breaking code or invalid results. Use at your own risk.\n",
      "  UserWarning)\n"
     ]
    }
   ],
   "source": [
    "results = execute()"
   ]
  },
  {
   "cell_type": "code",
   "execution_count": 19,
   "metadata": {
    "ExecuteTime": {
     "end_time": "2020-05-17T10:56:19.709080Z",
     "start_time": "2020-05-17T10:56:19.662766Z"
    }
   },
   "outputs": [
    {
     "data": {
      "text/plain": [
       "-0.032043335051350805"
      ]
     },
     "execution_count": 19,
     "metadata": {},
     "output_type": "execute_result"
    }
   ],
   "source": [
    "results.best_score_"
   ]
  },
  {
   "cell_type": "code",
   "execution_count": 20,
   "metadata": {
    "ExecuteTime": {
     "end_time": "2020-05-17T10:56:21.134740Z",
     "start_time": "2020-05-17T10:56:21.088459Z"
    }
   },
   "outputs": [
    {
     "data": {
      "text/plain": [
       "RandomForestRegressor(bootstrap=True, ccp_alpha=0.0, criterion='mse',\n",
       "                      max_depth=14, max_features=0.6, max_leaf_nodes=None,\n",
       "                      max_samples=None, min_impurity_decrease=0.0,\n",
       "                      min_impurity_split=None, min_samples_leaf=0.04,\n",
       "                      min_samples_split=2, min_weight_fraction_leaf=0.0,\n",
       "                      n_estimators=230, n_jobs=None, oob_score=False,\n",
       "                      random_state=None, verbose=0, warm_start=False)"
      ]
     },
     "execution_count": 20,
     "metadata": {},
     "output_type": "execute_result"
    }
   ],
   "source": [
    "results.best_estimator_"
   ]
  },
  {
   "cell_type": "code",
   "execution_count": null,
   "metadata": {},
   "outputs": [],
   "source": []
  }
 ],
 "metadata": {
  "kernelspec": {
   "display_name": "Python 3",
   "language": "python",
   "name": "python3"
  },
  "language_info": {
   "codemirror_mode": {
    "name": "ipython",
    "version": 3
   },
   "file_extension": ".py",
   "mimetype": "text/x-python",
   "name": "python",
   "nbconvert_exporter": "python",
   "pygments_lexer": "ipython3",
   "version": "3.8.2"
  },
  "toc": {
   "base_numbering": 1,
   "nav_menu": {},
   "number_sections": true,
   "sideBar": true,
   "skip_h1_title": false,
   "title_cell": "Table of Contents",
   "title_sidebar": "Contents",
   "toc_cell": false,
   "toc_position": {},
   "toc_section_display": true,
   "toc_window_display": false
  },
  "varInspector": {
   "cols": {
    "lenName": 16,
    "lenType": 16,
    "lenVar": 40
   },
   "kernels_config": {
    "python": {
     "delete_cmd_postfix": "",
     "delete_cmd_prefix": "del ",
     "library": "var_list.py",
     "varRefreshCmd": "print(var_dic_list())"
    },
    "r": {
     "delete_cmd_postfix": ") ",
     "delete_cmd_prefix": "rm(",
     "library": "var_list.r",
     "varRefreshCmd": "cat(var_dic_list()) "
    }
   },
   "types_to_exclude": [
    "module",
    "function",
    "builtin_function_or_method",
    "instance",
    "_Feature"
   ],
   "window_display": false
  }
 },
 "nbformat": 4,
 "nbformat_minor": 4
}
