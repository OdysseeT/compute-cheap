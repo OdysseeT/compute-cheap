{
 "cells": [
  {
   "cell_type": "code",
   "execution_count": 10,
   "metadata": {
    "ExecuteTime": {
     "end_time": "2020-05-10T22:17:24.089778Z",
     "start_time": "2020-05-10T22:17:24.013857Z"
    }
   },
   "outputs": [
    {
     "name": "stdout",
     "output_type": "stream",
     "text": [
      "The autoreload extension is already loaded. To reload it, use:\n",
      "  %reload_ext autoreload\n"
     ]
    }
   ],
   "source": [
    "%load_ext autoreload\n",
    "%autoreload 2"
   ]
  },
  {
   "cell_type": "code",
   "execution_count": 11,
   "metadata": {
    "ExecuteTime": {
     "end_time": "2020-05-10T22:17:25.346862Z",
     "start_time": "2020-05-10T22:17:25.314133Z"
    }
   },
   "outputs": [],
   "source": [
    "# Import the usual suspects\n",
    "from sklearn.model_selection import train_test_split\n",
    "from catboost import CatBoostRegressor\n",
    "import catboost\n",
    "import pandas as pd\n",
    "\n",
    "import sys, os\n",
    "sys.path.insert(0, os.path.abspath('..'))\n",
    "from fit2ec2.fit2ec2 import Compute, runremotely\n",
    "from fit2ec2.server import ec2\n",
    "import dill, fit2ec2"
   ]
  },
  {
   "cell_type": "code",
   "execution_count": 12,
   "metadata": {
    "ExecuteTime": {
     "end_time": "2020-05-10T22:17:26.621293Z",
     "start_time": "2020-05-10T22:17:26.539408Z"
    }
   },
   "outputs": [
    {
     "name": "stdout",
     "output_type": "stream",
     "text": [
      "(978, 246)\n"
     ]
    }
   ],
   "source": [
    "data = pd.read_csv('data.csv')\n",
    "\n",
    "y = np.log(data.SalePrice)\n",
    "X = data.drop(['SalePrice', 'Id'], axis=1)\n",
    "X_train, X_test, y_train, y_test = train_test_split(\n",
    "                          X, y, random_state=42, test_size=.33)\n",
    "\n",
    "print(X_train.shape)"
   ]
  },
  {
   "cell_type": "code",
   "execution_count": 4,
   "metadata": {
    "ExecuteTime": {
     "end_time": "2020-05-10T21:51:43.376226Z",
     "start_time": "2020-05-10T21:51:43.344346Z"
    }
   },
   "outputs": [
    {
     "data": {
      "text/plain": [
       "pandas.core.frame.DataFrame"
      ]
     },
     "execution_count": 4,
     "metadata": {},
     "output_type": "execute_result"
    }
   ],
   "source": [
    "type(X_train)"
   ]
  },
  {
   "cell_type": "code",
   "execution_count": null,
   "metadata": {
    "ExecuteTime": {
     "end_time": "2020-05-10T19:14:58.740075Z",
     "start_time": "2020-05-10T19:14:51.819139Z"
    }
   },
   "outputs": [],
   "source": [
    "#myec2 = ec2.Instance()"
   ]
  },
  {
   "cell_type": "code",
   "execution_count": null,
   "metadata": {
    "ExecuteTime": {
     "end_time": "2020-05-10T19:21:25.539391Z",
     "start_time": "2020-05-10T19:21:24.732889Z"
    }
   },
   "outputs": [],
   "source": [
    "#myec2.terminate()"
   ]
  },
  {
   "cell_type": "code",
   "execution_count": null,
   "metadata": {
    "ExecuteTime": {
     "end_time": "2020-05-10T20:26:36.678231Z",
     "start_time": "2020-05-10T20:26:36.665210Z"
    },
    "scrolled": false
   },
   "outputs": [],
   "source": [
    "cmp = Compute()"
   ]
  },
  {
   "cell_type": "code",
   "execution_count": null,
   "metadata": {
    "ExecuteTime": {
     "end_time": "2020-05-10T21:43:25.909815Z",
     "start_time": "2020-05-10T21:43:05.037716Z"
    }
   },
   "outputs": [],
   "source": [
    " param_grid = {'learning_rate': np.arange(0.05, 0.5, 0.01),\n",
    "            'depth': range(1,3,1),\n",
    "            'l2_leaf_reg': np.arange(0.1,2.0,0.1)}\n",
    "\n",
    "model = CatBoostRegressor()\n",
    "grid = model.grid_search(param_grid,\n",
    "            X_train,\n",
    "            y=y_train,\n",
    "            cv=5,plot=False)"
   ]
  },
  {
   "cell_type": "code",
   "execution_count": 25,
   "metadata": {
    "ExecuteTime": {
     "end_time": "2020-05-10T22:23:15.233074Z",
     "start_time": "2020-05-10T22:23:15.185144Z"
    }
   },
   "outputs": [
    {
     "name": "stdout",
     "output_type": "stream",
     "text": [
      "None\n",
      "None\n"
     ]
    }
   ],
   "source": [
    "@runremotely()\n",
    "def execute(X_train, y_train):\n",
    "    from catboost import CatBoostRegressor\n",
    "    import catboost\n",
    "    import numpy as np\n",
    "    import pandas as pd\n",
    "    # Don't forget the n_jobs parameters on a multi-cpu machine!\n",
    "    param_grid = {'learning_rate': np.arange(0.05, 0.5, 0.01),\n",
    "            'depth': range(1,3,1),\n",
    "            'l2_leaf_reg': np.arange(0.1,2.0,0.1)}\n",
    "    \n",
    "    print(X_train)\n",
    "    \n",
    "    model = CatBoostRegressor()\n",
    "    #grid = model.grid_search(param_grid, X_train, y=y_train, cv=5,plot=False)"
   ]
  },
  {
   "cell_type": "code",
   "execution_count": 26,
   "metadata": {
    "ExecuteTime": {
     "end_time": "2020-05-10T22:23:16.490959Z",
     "start_time": "2020-05-10T22:23:16.452427Z"
    }
   },
   "outputs": [
    {
     "name": "stdout",
     "output_type": "stream",
     "text": [
      "Crazy this code:<code object execute at 0x10bc16780, file \"<ipython-input-25-a53a0873634b>\", line 1>\n",
      "      Unnamed: 0  MSSubClass  LotFrontage  LotArea  OverallQual  OverallCond  \\\n",
      "615          615          85         80.0     8800            6            7   \n",
      "613          613          20         70.0     8402            5            5   \n",
      "1303        1303          20         73.0     8688            7            5   \n",
      "486          486          20         79.0    10289            5            7   \n",
      "561          561          20         77.0    10010            5            5   \n",
      "...          ...         ...          ...      ...          ...          ...   \n",
      "1095        1095          20         78.0     9317            6            5   \n",
      "1130        1130          50         65.0     7804            4            3   \n",
      "1294        1294          20         60.0     8172            5            7   \n",
      "860          860          50         55.0     7642            7            8   \n",
      "1126        1126         120         53.0     3684            7            5   \n",
      "\n",
      "      YearBuilt  YearRemodAdd  MasVnrArea  BsmtFinSF1  ...  SaleType_ConLI  \\\n",
      "615        1963          1963       156.0         763  ...               0   \n",
      "613        2007          2007         0.0         206  ...               0   \n",
      "1303       2005          2005       228.0           0  ...               0   \n",
      "486        1965          1965       168.0         836  ...               0   \n",
      "561        1974          1975         0.0        1071  ...               0   \n",
      "...         ...           ...         ...         ...  ...             ...   \n",
      "1095       2006          2006         0.0          24  ...               0   \n",
      "1130       1928          1950         0.0         622  ...               0   \n",
      "1294       1955          1990         0.0         167  ...               0   \n",
      "860        1918          1998         0.0           0  ...               0   \n",
      "1126       2007          2007       130.0           0  ...               0   \n",
      "\n",
      "      SaleType_ConLw  SaleType_New  SaleType_Oth  SaleType_WD  \\\n",
      "615                0             0             0            1   \n",
      "613                0             1             0            0   \n",
      "1303               0             0             0            1   \n",
      "486                0             0             0            1   \n",
      "561                0             0             0            1   \n",
      "...              ...           ...           ...          ...   \n",
      "1095               0             0             0            1   \n",
      "1130               0             0             0            1   \n",
      "1294               0             0             0            1   \n",
      "860                0             0             0            1   \n",
      "1126               0             0             0            1   \n",
      "\n",
      "      SaleCondition_AdjLand  SaleCondition_Alloca  SaleCondition_Family  \\\n",
      "615                       0                     0                     0   \n",
      "613                       0                     0                     0   \n",
      "1303                      0                     0                     0   \n",
      "486                       0                     0                     0   \n",
      "561                       0                     0                     0   \n",
      "...                     ...                   ...                   ...   \n",
      "1095                      0                     0                     0   \n",
      "1130                      0                     0                     0   \n",
      "1294                      0                     0                     0   \n",
      "860                       0                     0                     0   \n",
      "1126                      0                     0                     0   \n",
      "\n",
      "      SaleCondition_Normal  SaleCondition_Partial  \n",
      "615                      0                      0  \n",
      "613                      0                      1  \n",
      "1303                     1                      0  \n",
      "486                      1                      0  \n",
      "561                      1                      0  \n",
      "...                    ...                    ...  \n",
      "1095                     1                      0  \n",
      "1130                     1                      0  \n",
      "1294                     1                      0  \n",
      "860                      1                      0  \n",
      "1126                     1                      0  \n",
      "\n",
      "[978 rows x 246 columns]\n"
     ]
    }
   ],
   "source": [
    "execute(X_train, y_train)"
   ]
  },
  {
   "cell_type": "code",
   "execution_count": null,
   "metadata": {},
   "outputs": [],
   "source": []
  }
 ],
 "metadata": {
  "kernelspec": {
   "display_name": "Python 3",
   "language": "python",
   "name": "python3"
  },
  "language_info": {
   "codemirror_mode": {
    "name": "ipython",
    "version": 3
   },
   "file_extension": ".py",
   "mimetype": "text/x-python",
   "name": "python",
   "nbconvert_exporter": "python",
   "pygments_lexer": "ipython3",
   "version": "3.7.7"
  },
  "toc": {
   "base_numbering": 1,
   "nav_menu": {},
   "number_sections": true,
   "sideBar": true,
   "skip_h1_title": false,
   "title_cell": "Table of Contents",
   "title_sidebar": "Contents",
   "toc_cell": false,
   "toc_position": {},
   "toc_section_display": true,
   "toc_window_display": false
  },
  "varInspector": {
   "cols": {
    "lenName": 16,
    "lenType": 16,
    "lenVar": 40
   },
   "kernels_config": {
    "python": {
     "delete_cmd_postfix": "",
     "delete_cmd_prefix": "del ",
     "library": "var_list.py",
     "varRefreshCmd": "print(var_dic_list())"
    },
    "r": {
     "delete_cmd_postfix": ") ",
     "delete_cmd_prefix": "rm(",
     "library": "var_list.r",
     "varRefreshCmd": "cat(var_dic_list()) "
    }
   },
   "types_to_exclude": [
    "module",
    "function",
    "builtin_function_or_method",
    "instance",
    "_Feature"
   ],
   "window_display": false
  }
 },
 "nbformat": 4,
 "nbformat_minor": 4
}
