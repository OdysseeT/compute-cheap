{
 "cells": [
  {
   "cell_type": "markdown",
   "metadata": {},
   "source": [
    "**Use of Grid Search with Random Forest on the Boston Housing data**"
   ]
  },
  {
   "cell_type": "markdown",
   "metadata": {},
   "source": [
    "**AWS Configuration required**\n",
    "\n",
    "Fit2ec2 use your credentials stored in ~/.aws/credential\n",
    "\n",
    "Make sure you have install aws-cli and it's configured\n",
    "\n",
    "https://docs.aws.amazon.com/cli/latest/userguide/install-cliv2.html"
   ]
  },
  {
   "cell_type": "code",
   "execution_count": 3,
   "metadata": {
    "ExecuteTime": {
     "end_time": "2020-05-09T16:54:50.028500Z",
     "start_time": "2020-05-09T16:54:50.024408Z"
    }
   },
   "outputs": [
    {
     "name": "stdout",
     "output_type": "stream",
     "text": [
      "example.ipynb\n"
     ]
    }
   ],
   "source": [
    "### Issue Jupyter Notebook 100\n",
    "import ipyparams\n",
    "print(ipyparams.notebook_name)\n"
   ]
  },
  {
   "cell_type": "code",
   "execution_count": 18,
   "metadata": {
    "ExecuteTime": {
     "end_time": "2020-05-09T17:07:35.436001Z",
     "start_time": "2020-05-09T17:07:35.375248Z"
    }
   },
   "outputs": [],
   "source": [
    "# Import the usual suspects\n",
    "from sklearn.model_selection import train_test_split\n",
    "from sklearn.ensemble import RandomForestRegressor\n",
    "from sklearn.model_selection import GridSearchCV\n",
    "import pandas as pd"
   ]
  },
  {
   "cell_type": "code",
   "execution_count": 21,
   "metadata": {
    "ExecuteTime": {
     "end_time": "2020-05-09T17:08:28.276424Z",
     "start_time": "2020-05-09T17:08:28.055265Z"
    }
   },
   "outputs": [
    {
     "name": "stdout",
     "output_type": "stream",
     "text": [
      "The autoreload extension is already loaded. To reload it, use:\n",
      "  %reload_ext autoreload\n"
     ]
    }
   ],
   "source": [
    "%load_ext autoreload\n",
    "%autoreload 2\n",
    "%reload_ext autoreload\n",
    "\n",
    "# fit2ec2\n",
    "import fit2ec2 as fe"
   ]
  },
  {
   "cell_type": "markdown",
   "metadata": {},
   "source": [
    "**Load and Split data**"
   ]
  },
  {
   "cell_type": "code",
   "execution_count": 6,
   "metadata": {
    "ExecuteTime": {
     "end_time": "2020-05-09T16:54:51.847801Z",
     "start_time": "2020-05-09T16:54:51.746638Z"
    }
   },
   "outputs": [
    {
     "name": "stdout",
     "output_type": "stream",
     "text": [
      "(978, 246)\n"
     ]
    }
   ],
   "source": [
    "data = pd.read_csv('data/data.csv')\n",
    "\n",
    "y = np.log(data.SalePrice)\n",
    "X = data.drop(['SalePrice', 'Id'], axis=1)\n",
    "X_train, X_test, y_train, y_test = train_test_split(\n",
    "                          X, y, random_state=42, test_size=.33)\n",
    "\n",
    "print(X_train.shape)"
   ]
  },
  {
   "cell_type": "markdown",
   "metadata": {},
   "source": [
    "**Initialize the Random Forest and the Grid Search**"
   ]
  },
  {
   "cell_type": "code",
   "execution_count": 7,
   "metadata": {
    "ExecuteTime": {
     "end_time": "2020-05-09T16:54:54.459797Z",
     "start_time": "2020-05-09T16:54:54.400064Z"
    }
   },
   "outputs": [],
   "source": [
    "# Initialize Random Forest\n",
    "rf = RandomForestRegressor()"
   ]
  },
  {
   "cell_type": "code",
   "execution_count": 8,
   "metadata": {
    "ExecuteTime": {
     "end_time": "2020-05-09T16:54:54.806641Z",
     "start_time": "2020-05-09T16:54:54.745366Z"
    }
   },
   "outputs": [],
   "source": [
    "# Choose parameters for Grid Search\n",
    "rf_params = {'n_estimators': range(150, 300, 10), 'max_depth': range(3, 15, 1),'min_samples_leaf':[0.04,0.06,0.08], 'max_features':[0.2,0.4,0.6,0.8]}"
   ]
  },
  {
   "cell_type": "code",
   "execution_count": 9,
   "metadata": {
    "ExecuteTime": {
     "end_time": "2020-05-09T16:54:55.137333Z",
     "start_time": "2020-05-09T16:54:55.074664Z"
    }
   },
   "outputs": [],
   "source": [
    "# Don't forget the n_jobs parameters on a multi-cpu machine!\n",
    "grid = GridSearchCV(estimator = rf,\n",
    "                         param_grid = rf_params,\n",
    "                         cv=2,\n",
    "                         scoring='neg_mean_squared_error',\n",
    "                         verbose=1,\n",
    "                         n_jobs=-1)"
   ]
  },
  {
   "cell_type": "markdown",
   "metadata": {},
   "source": [
    "**Initialize Fit2ec2**"
   ]
  },
  {
   "cell_type": "code",
   "execution_count": 10,
   "metadata": {
    "ExecuteTime": {
     "end_time": "2020-05-09T16:54:56.218857Z",
     "start_time": "2020-05-09T16:54:55.991109Z"
    }
   },
   "outputs": [],
   "source": [
    "cmp = fe.Compute()\n",
    "\n",
    "# Or specify the private key name\n",
    "# cmpC = fe.Fit2ec2(keyname=\"mykey\")"
   ]
  },
  {
   "cell_type": "markdown",
   "metadata": {},
   "source": [
    "**Create the ec2 instance**"
   ]
  },
  {
   "cell_type": "code",
   "execution_count": 11,
   "metadata": {
    "ExecuteTime": {
     "end_time": "2020-05-09T16:55:02.363512Z",
     "start_time": "2020-05-09T16:54:56.756432Z"
    }
   },
   "outputs": [
    {
     "name": "stdout",
     "output_type": "stream",
     "text": [
      "Creating key pair [ec2-keypair-20200509-185456.pem]...\n",
      "Key pair created!\n",
      "Creating EC2 instance with type [c5.12xlarge]\n",
      "Wait for EC2 instance to  be created...\n",
      "EC2 instance created!\n",
      "\tId: i-08fb4a5c4adef2cea\n",
      "\tPublic IP address: 34.250.100.82\n",
      "Generating project Python requirements\n"
     ]
    }
   ],
   "source": [
    "# Create an EC2 with the default AWS Linux AMI and a type of t2.micro\n",
    "cmp.create(instanceType=\"c5.12xlarge\")\n",
    "\n",
    "# Or specify the image id (AMI ID) and the instance type (see https://aws.amazon.com/ec2/instance-types/)\n",
    "#cmp.create(imageId='ami-06ce3edf0cff21f07', instanceType='t2.micro')"
   ]
  },
  {
   "cell_type": "markdown",
   "metadata": {},
   "source": [
    "**Fit the model with the data on the ec2 instance**"
   ]
  },
  {
   "cell_type": "code",
   "execution_count": 22,
   "metadata": {
    "ExecuteTime": {
     "end_time": "2020-05-09T17:09:45.581017Z",
     "start_time": "2020-05-09T17:08:33.096165Z"
    },
    "scrolled": false
   },
   "outputs": [
    {
     "name": "stdout",
     "output_type": "stream",
     "text": [
      "Saving model.pickle\n",
      "Saving X.pickle\n",
      "Saving y.pickle\n",
      "Transfering [./temp/model.pickle] to ec2\n",
      "Transfering [./temp/requirements.txt] to ec2\n",
      "Transfering [./temp/X.pickle] to ec2\n",
      "Transfering [run.sh] to ec2\n",
      "Transfering [./temp/y.pickle] to ec2\n",
      "Transfering [./temp/model.py] to ec2\n",
      "Executing [chmod 700 run.sh]\n",
      "Out: \n",
      "Error: \n",
      "Executing [./run.sh]\n",
      "Out: Loaded plugins: extras_suggestions, langpacks, priorities, update-motd\n",
      "Package python3-3.7.6-1.amzn2.0.1.x86_64 already installed and latest version\n",
      "Nothing to do\n",
      "Collecting pip\n",
      "  Using cached pip-20.1-py2.py3-none-any.whl (1.5 MB)\n",
      "Installing collected packages: pip\n",
      "  Attempting uninstall: pip\n",
      "    Found existing installation: pip 20.1\n",
      "    Uninstalling pip-20.1:\n",
      "      Successfully uninstalled pip-20.1\n",
      "Successfully installed pip-20.1\n",
      "Defaulting to user installation because normal site-packages is not writeable\n",
      "Requirement already satisfied: pandas==1.0.3 in ./.local/lib/python3.7/site-packages (from -r requirements.txt (line 1)) (1.0.3)\n",
      "Requirement already satisfied: boto3==1.12.39 in ./.local/lib/python3.7/site-packages (from -r requirements.txt (line 2)) (1.12.39)\n",
      "Requirement already satisfied: botocore==1.15.39 in ./.local/lib/python3.7/site-packages (from -r requirements.txt (line 3)) (1.15.39)\n",
      "Requirement already satisfied: pipreqsnb==0.1.3 in ./.local/lib/python3.7/site-packages (from -r requirements.txt (line 4)) (0.1.3)\n",
      "Requirement already satisfied: ipyparams==0.2.1 in ./.local/lib/python3.7/site-packages (from -r requirements.txt (line 5)) (0.2.1)\n",
      "Requirement already satisfied: paramiko==2.7.1 in ./.local/lib/python3.7/site-packages (from -r requirements.txt (line 6)) (2.7.1)\n",
      "Requirement already satisfied: scikit_learn==0.22.2.post1 in ./.local/lib/python3.7/site-packages (from -r requirements.txt (line 7)) (0.22.2.post1)\n",
      "Requirement already satisfied: python-dateutil>=2.6.1 in ./.local/lib/python3.7/site-packages (from pandas==1.0.3->-r requirements.txt (line 1)) (2.8.1)\n",
      "Requirement already satisfied: pytz>=2017.2 in ./.local/lib/python3.7/site-packages (from pandas==1.0.3->-r requirements.txt (line 1)) (2020.1)\n",
      "Requirement already satisfied: numpy>=1.13.3 in ./.local/lib/python3.7/site-packages (from pandas==1.0.3->-r requirements.txt (line 1)) (1.18.4)\n",
      "Requirement already satisfied: s3transfer<0.4.0,>=0.3.0 in ./.local/lib/python3.7/site-packages (from boto3==1.12.39->-r requirements.txt (line 2)) (0.3.3)\n",
      "Requirement already satisfied: jmespath<1.0.0,>=0.7.1 in ./.local/lib/python3.7/site-packages (from boto3==1.12.39->-r requirements.txt (line 2)) (0.9.5)\n",
      "Requirement already satisfied: docutils<0.16,>=0.10 in ./.local/lib/python3.7/site-packages (from botocore==1.15.39->-r requirements.txt (line 3)) (0.15.2)\n",
      "Requirement already satisfied: urllib3<1.26,>=1.20; python_version != \"3.4\" in ./.local/lib/python3.7/site-packages (from botocore==1.15.39->-r requirements.txt (line 3)) (1.25.9)\n",
      "Requirement already satisfied: pipreqs in ./.local/lib/python3.7/site-packages (from pipreqsnb==0.1.3->-r requirements.txt (line 4)) (0.4.10)\n",
      "Requirement already satisfied: pynacl>=1.0.1 in ./.local/lib/python3.7/site-packages (from paramiko==2.7.1->-r requirements.txt (line 6)) (1.3.0)\n",
      "Requirement already satisfied: bcrypt>=3.1.3 in ./.local/lib/python3.7/site-packages (from paramiko==2.7.1->-r requirements.txt (line 6)) (3.1.7)\n",
      "Requirement already satisfied: cryptography>=2.5 in ./.local/lib/python3.7/site-packages (from paramiko==2.7.1->-r requirements.txt (line 6)) (2.9.2)\n",
      "Requirement already satisfied: joblib>=0.11 in ./.local/lib/python3.7/site-packages (from scikit_learn==0.22.2.post1->-r requirements.txt (line 7)) (0.14.1)\n",
      "Requirement already satisfied: scipy>=0.17.0 in ./.local/lib/python3.7/site-packages (from scikit_learn==0.22.2.post1->-r requirements.txt (line 7)) (1.4.1)\n",
      "Requirement already satisfied: six>=1.5 in ./.local/lib/python3.7/site-packages (from python-dateutil>=2.6.1->pandas==1.0.3->-r requirements.txt (line 1)) (1.14.0)\n",
      "Requirement already satisfied: yarg in ./.local/lib/python3.7/site-packages (from pipreqs->pipreqsnb==0.1.3->-r requirements.txt (line 4)) (0.1.9)\n",
      "Requirement already satisfied: docopt in ./.local/lib/python3.7/site-packages (from pipreqs->pipreqsnb==0.1.3->-r requirements.txt (line 4)) (0.6.2)\n",
      "Requirement already satisfied: cffi>=1.4.1 in ./.local/lib/python3.7/site-packages (from pynacl>=1.0.1->paramiko==2.7.1->-r requirements.txt (line 6)) (1.14.0)\n",
      "Requirement already satisfied: requests in ./.local/lib/python3.7/site-packages (from yarg->pipreqs->pipreqsnb==0.1.3->-r requirements.txt (line 4)) (2.23.0)\n",
      "Requirement already satisfied: pycparser in ./.local/lib/python3.7/site-packages (from cffi>=1.4.1->pynacl>=1.0.1->paramiko==2.7.1->-r requirements.txt (line 6)) (2.20)\n",
      "Requirement already satisfied: idna<3,>=2.5 in ./.local/lib/python3.7/site-packages (from requests->yarg->pipreqs->pipreqsnb==0.1.3->-r requirements.txt (line 4)) (2.9)\n",
      "Requirement already satisfied: chardet<4,>=3.0.2 in ./.local/lib/python3.7/site-packages (from requests->yarg->pipreqs->pipreqsnb==0.1.3->-r requirements.txt (line 4)) (3.0.4)\n",
      "Requirement already satisfied: certifi>=2017.4.17 in ./.local/lib/python3.7/site-packages (from requests->yarg->pipreqs->pipreqsnb==0.1.3->-r requirements.txt (line 4)) (2020.4.5.1)\n",
      "This package only works within Jupyter/IPython accessed from a browser.\n",
      "Starting\n",
      "Loading model...\n",
      "GridSearchCV(cv=2, error_score=nan,\n",
      "             estimator=RandomForestRegressor(bootstrap=True, ccp_alpha=0.0,\n",
      "                                             criterion='mse', max_depth=None,\n",
      "                                             max_features='auto',\n",
      "                                             max_leaf_nodes=None,\n",
      "                                             max_samples=None,\n",
      "                                             min_impurity_decrease=0.0,\n",
      "                                             min_impurity_split=None,\n",
      "                                             min_samples_leaf=1,\n",
      "                                             min_samples_split=2,\n",
      "                                             min_weight_fraction_leaf=0.0,\n",
      "                                             n_estimators=100, n_jobs=None,\n",
      "                                             oob_score=False, random_state=None,\n",
      "                                             verbose=0, warm_start=False),\n",
      "             iid='deprecated', n_jobs=-1,\n",
      "             param_grid={'max_depth': range(3, 15),\n",
      "                         'max_features': [0.2, 0.4, 0.6, 0.8],\n",
      "                         'min_samples_leaf': [0.04, 0.06, 0.08],\n",
      "                         'n_estimators': range(150, 300, 10)},\n",
      "             pre_dispatch='2*n_jobs', refit=True, return_train_score=False,\n",
      "             scoring='neg_mean_squared_error', verbose=1)\n",
      "Loading X data...\n",
      "Loading y data...\n",
      "Fitting the model...\n",
      "Fitting 2 folds for each of 2160 candidates, totalling 4320 fits\n",
      "Model:\n",
      "Best estimator: RandomForestRegressor(bootstrap=True, ccp_alpha=0.0, criterion='mse',\n",
      "                      max_depth=14, max_features=0.6, max_leaf_nodes=None,\n",
      "                      max_samples=None, min_impurity_decrease=0.0,\n",
      "                      min_impurity_split=None, min_samples_leaf=0.04,\n",
      "                      min_samples_split=2, min_weight_fraction_leaf=0.0,\n",
      "                      n_estimators=160, n_jobs=None, oob_score=False,\n",
      "                      random_state=None, verbose=0, warm_start=False)\n",
      "Best Params: {'max_depth': 14, 'max_features': 0.6, 'min_samples_leaf': 0.04, 'n_estimators': 160}\n",
      "Best Score: -0.03129856373358496\n",
      "Saving model...\n",
      "Done!\n",
      "\n",
      "Error:   % Total    % Received % Xferd  Average Speed   Time    Time     Time  Current\n",
      "                                 Dload  Upload   Total   Spent    Left  Speed\n",
      "100 1824k  100 1824k    0     0  35.6M      0 --:--:-- --:--:-- --:--:-- 35.6M\n",
      "/home/ec2-user/.local/lib/python3.7/site-packages/sklearn/base.py:318: UserWarning: Trying to unpickle estimator DecisionTreeRegressor from version 0.22.1 when using version 0.22.2.post1. This might lead to breaking code or invalid results. Use at your own risk.\n",
      "  UserWarning)\n",
      "/home/ec2-user/.local/lib/python3.7/site-packages/sklearn/base.py:318: UserWarning: Trying to unpickle estimator RandomForestRegressor from version 0.22.1 when using version 0.22.2.post1. This might lead to breaking code or invalid results. Use at your own risk.\n",
      "  UserWarning)\n",
      "/home/ec2-user/.local/lib/python3.7/site-packages/sklearn/base.py:318: UserWarning: Trying to unpickle estimator GridSearchCV from version 0.22.1 when using version 0.22.2.post1. This might lead to breaking code or invalid results. Use at your own risk.\n",
      "  UserWarning)\n",
      "[Parallel(n_jobs=-1)]: Using backend LokyBackend with 48 concurrent workers.\n",
      "[Parallel(n_jobs=-1)]: Done 104 tasks      | elapsed:    2.3s\n",
      "[Parallel(n_jobs=-1)]: Done 354 tasks      | elapsed:    6.1s\n",
      "[Parallel(n_jobs=-1)]: Done 704 tasks      | elapsed:   11.3s\n",
      "[Parallel(n_jobs=-1)]: Done 1154 tasks      | elapsed:   17.7s\n",
      "[Parallel(n_jobs=-1)]: Done 1704 tasks      | elapsed:   26.0s\n",
      "[Parallel(n_jobs=-1)]: Done 2354 tasks      | elapsed:   35.7s\n",
      "[Parallel(n_jobs=-1)]: Done 3104 tasks      | elapsed:   47.0s\n",
      "[Parallel(n_jobs=-1)]: Done 3954 tasks      | elapsed:   60.0s\n",
      "[Parallel(n_jobs=-1)]: Done 4320 out of 4320 | elapsed:  1.1min finished\n",
      "\n"
     ]
    },
    {
     "name": "stdout",
     "output_type": "stream",
     "text": [
      "Retrieving [./temp/model.pickle] from ec2\n",
      "Loading model.pickle\n"
     ]
    },
    {
     "name": "stderr",
     "output_type": "stream",
     "text": [
      "/Users/odyssee/opt/anaconda3/envs/tensorflow/lib/python3.7/site-packages/sklearn/base.py:318: UserWarning: Trying to unpickle estimator DecisionTreeRegressor from version 0.22.2.post1 when using version 0.22.1. This might lead to breaking code or invalid results. Use at your own risk.\n",
      "  UserWarning)\n",
      "/Users/odyssee/opt/anaconda3/envs/tensorflow/lib/python3.7/site-packages/sklearn/base.py:318: UserWarning: Trying to unpickle estimator RandomForestRegressor from version 0.22.2.post1 when using version 0.22.1. This might lead to breaking code or invalid results. Use at your own risk.\n",
      "  UserWarning)\n",
      "/Users/odyssee/opt/anaconda3/envs/tensorflow/lib/python3.7/site-packages/sklearn/base.py:318: UserWarning: Trying to unpickle estimator GridSearchCV from version 0.22.2.post1 when using version 0.22.1. This might lead to breaking code or invalid results. Use at your own risk.\n",
      "  UserWarning)\n"
     ]
    }
   ],
   "source": [
    "grid = cmp.fit(grid, X_train, y_train)\n",
    "# If you get NoValidConnectionsError, better to wait 30secs for the ec2 instance to turn on"
   ]
  },
  {
   "cell_type": "code",
   "execution_count": 23,
   "metadata": {
    "ExecuteTime": {
     "end_time": "2020-05-09T17:09:59.633750Z",
     "start_time": "2020-05-09T17:09:59.481151Z"
    }
   },
   "outputs": [
    {
     "data": {
      "text/plain": [
       "-0.03129856373358496"
      ]
     },
     "execution_count": 23,
     "metadata": {},
     "output_type": "execute_result"
    }
   ],
   "source": [
    "grid.best_score_"
   ]
  },
  {
   "cell_type": "code",
   "execution_count": 24,
   "metadata": {
    "ExecuteTime": {
     "end_time": "2020-05-09T17:10:01.400210Z",
     "start_time": "2020-05-09T17:10:01.250005Z"
    }
   },
   "outputs": [
    {
     "data": {
      "text/plain": [
       "RandomForestRegressor(bootstrap=True, ccp_alpha=0.0, criterion='mse',\n",
       "                      max_depth=14, max_features=0.6, max_leaf_nodes=None,\n",
       "                      max_samples=None, min_impurity_decrease=0.0,\n",
       "                      min_impurity_split=None, min_samples_leaf=0.04,\n",
       "                      min_samples_split=2, min_weight_fraction_leaf=0.0,\n",
       "                      n_estimators=160, n_jobs=None, oob_score=False,\n",
       "                      random_state=None, verbose=0, warm_start=False)"
      ]
     },
     "execution_count": 24,
     "metadata": {},
     "output_type": "execute_result"
    }
   ],
   "source": [
    "grid.best_estimator_"
   ]
  },
  {
   "cell_type": "markdown",
   "metadata": {
    "ExecuteTime": {
     "end_time": "2020-05-09T12:05:55.570973Z",
     "start_time": "2020-05-09T12:05:55.566958Z"
    }
   },
   "source": [
    "**Terminate the ec2 instance and remove the private key**"
   ]
  },
  {
   "cell_type": "code",
   "execution_count": 25,
   "metadata": {
    "ExecuteTime": {
     "end_time": "2020-05-09T17:10:37.436225Z",
     "start_time": "2020-05-09T17:10:36.785110Z"
    }
   },
   "outputs": [
    {
     "name": "stdout",
     "output_type": "stream",
     "text": [
      "Deleting remote key pair...\n",
      "Terminate EC2 instance [i-08fb4a5c4adef2cea]...\n",
      "Delete local key pair file...\n",
      "Done!\n"
     ]
    }
   ],
   "source": [
    "cmp.terminate()"
   ]
  },
  {
   "cell_type": "code",
   "execution_count": null,
   "metadata": {},
   "outputs": [],
   "source": []
  }
 ],
 "metadata": {
  "kernelspec": {
   "display_name": "Python 3",
   "language": "python",
   "name": "python3"
  },
  "language_info": {
   "codemirror_mode": {
    "name": "ipython",
    "version": 3
   },
   "file_extension": ".py",
   "mimetype": "text/x-python",
   "name": "python",
   "nbconvert_exporter": "python",
   "pygments_lexer": "ipython3",
   "version": "3.7.7"
  },
  "toc": {
   "base_numbering": 1,
   "nav_menu": {},
   "number_sections": true,
   "sideBar": true,
   "skip_h1_title": false,
   "title_cell": "Table of Contents",
   "title_sidebar": "Contents",
   "toc_cell": false,
   "toc_position": {},
   "toc_section_display": true,
   "toc_window_display": false
  },
  "varInspector": {
   "cols": {
    "lenName": 16,
    "lenType": 16,
    "lenVar": 40
   },
   "kernels_config": {
    "python": {
     "delete_cmd_postfix": "",
     "delete_cmd_prefix": "del ",
     "library": "var_list.py",
     "varRefreshCmd": "print(var_dic_list())"
    },
    "r": {
     "delete_cmd_postfix": ") ",
     "delete_cmd_prefix": "rm(",
     "library": "var_list.r",
     "varRefreshCmd": "cat(var_dic_list()) "
    }
   },
   "types_to_exclude": [
    "module",
    "function",
    "builtin_function_or_method",
    "instance",
    "_Feature"
   ],
   "window_display": false
  }
 },
 "nbformat": 4,
 "nbformat_minor": 4
}
