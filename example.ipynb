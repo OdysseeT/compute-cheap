{
 "cells": [
  {
   "cell_type": "markdown",
   "metadata": {},
   "source": [
    "**Use of Grid Search with Random Forest on the Boston Housing data**"
   ]
  },
  {
   "cell_type": "code",
   "execution_count": 1,
   "metadata": {
    "ExecuteTime": {
     "end_time": "2020-05-09T15:38:36.327587Z",
     "start_time": "2020-05-09T15:38:35.724572Z"
    }
   },
   "outputs": [],
   "source": [
    "# Import the usual suspects\n",
    "from sklearn.model_selection import train_test_split\n",
    "from sklearn.ensemble import RandomForestRegressor\n",
    "from sklearn.model_selection import GridSearchCV\n",
    "import pandas as pd"
   ]
  },
  {
   "cell_type": "code",
   "execution_count": 2,
   "metadata": {
    "ExecuteTime": {
     "end_time": "2020-05-09T15:38:37.516289Z",
     "start_time": "2020-05-09T15:38:36.340868Z"
    }
   },
   "outputs": [
    {
     "data": {
      "application/javascript": [
       "\n",
       "console.log('Starting front end url_querystring_target comm target');\n",
       "const comm = Jupyter.notebook.kernel.comm_manager.new_comm('url_querystring_target', {'init': 1});\n",
       "comm.send({'ipyparams_browser_url': window.location.href});\n",
       "console.log('Sent window.location.href on url_querystring_target comm target');\n",
       "\n",
       "comm.on_msg(function(msg) {\n",
       "    console.log(msg.content.data);\n",
       "});\n"
      ],
      "text/plain": [
       "<IPython.core.display.Javascript object>"
      ]
     },
     "metadata": {},
     "output_type": "display_data"
    }
   ],
   "source": [
    "%load_ext autoreload\n",
    "%autoreload 2\n",
    "%reload_ext autoreload\n",
    "\n",
    "# fit2ec2\n",
    "import fit2ec2 as fe"
   ]
  },
  {
   "cell_type": "markdown",
   "metadata": {},
   "source": [
    "**Load and Split data**"
   ]
  },
  {
   "cell_type": "code",
   "execution_count": 3,
   "metadata": {
    "ExecuteTime": {
     "end_time": "2020-05-09T15:38:37.731881Z",
     "start_time": "2020-05-09T15:38:37.624152Z"
    }
   },
   "outputs": [
    {
     "name": "stdout",
     "output_type": "stream",
     "text": [
      "(978, 246)\n"
     ]
    }
   ],
   "source": [
    "data = pd.read_csv('data/data.csv')\n",
    "\n",
    "y = np.log(data.SalePrice)\n",
    "X = data.drop(['SalePrice', 'Id'], axis=1)\n",
    "X_train, X_test, y_train, y_test = train_test_split(\n",
    "                          X, y, random_state=42, test_size=.33)\n",
    "\n",
    "print(X_train.shape)"
   ]
  },
  {
   "cell_type": "markdown",
   "metadata": {},
   "source": [
    "**Initialize the Random Forest and the Grid Search**"
   ]
  },
  {
   "cell_type": "code",
   "execution_count": 4,
   "metadata": {
    "ExecuteTime": {
     "end_time": "2020-05-09T15:38:38.022228Z",
     "start_time": "2020-05-09T15:38:37.973373Z"
    }
   },
   "outputs": [],
   "source": [
    "# Initialize Random Forest\n",
    "rf = RandomForestRegressor()"
   ]
  },
  {
   "cell_type": "code",
   "execution_count": 5,
   "metadata": {
    "ExecuteTime": {
     "end_time": "2020-05-09T15:38:38.280125Z",
     "start_time": "2020-05-09T15:38:38.230124Z"
    }
   },
   "outputs": [],
   "source": [
    "# Choose parameters for Grid Search\n",
    "rf_params = {'n_estimators': range(150, 300, 10), 'max_depth': range(3, 15, 1),'min_samples_leaf':[0.04,0.06,0.08], 'max_features':[0.2,0.4,0.6,0.8]}"
   ]
  },
  {
   "cell_type": "code",
   "execution_count": 6,
   "metadata": {
    "ExecuteTime": {
     "end_time": "2020-05-09T15:38:38.536941Z",
     "start_time": "2020-05-09T15:38:38.487703Z"
    }
   },
   "outputs": [],
   "source": [
    "grid = GridSearchCV(estimator = rf,\n",
    "                         param_grid = rf_params,\n",
    "                         cv=2,\n",
    "                         scoring='neg_mean_squared_error',\n",
    "                         verbose=1)"
   ]
  },
  {
   "cell_type": "markdown",
   "metadata": {},
   "source": [
    "**Initialize Fit2ec2**"
   ]
  },
  {
   "cell_type": "code",
   "execution_count": 7,
   "metadata": {
    "ExecuteTime": {
     "end_time": "2020-05-09T15:38:38.966125Z",
     "start_time": "2020-05-09T15:38:38.747386Z"
    }
   },
   "outputs": [],
   "source": [
    "cmp = fe.Compute()\n",
    "\n",
    "# Or specify the private key name\n",
    "# cmpC = fe.Fit2ec2(keyname=\"mykey\")"
   ]
  },
  {
   "cell_type": "markdown",
   "metadata": {},
   "source": [
    "**Create the ec2 instance**"
   ]
  },
  {
   "cell_type": "code",
   "execution_count": 8,
   "metadata": {
    "ExecuteTime": {
     "end_time": "2020-05-09T15:38:46.968654Z",
     "start_time": "2020-05-09T15:38:41.767800Z"
    }
   },
   "outputs": [
    {
     "name": "stdout",
     "output_type": "stream",
     "text": [
      "Creating key pair [ec2-keypair-20200509-173838.pem]...\n",
      "Key pair created!\n",
      "Creating EC2 instance with type [t2.micro]\n",
      "Wait for EC2 instance to  be created...\n",
      "EC2 instance created!\n",
      "\tId: i-0d76aa5e7bb20dc73\n",
      "\tPublic IP address: 34.242.70.238\n",
      "Generating project Python requirements\n"
     ]
    }
   ],
   "source": [
    "# Create an EC2 with the default AWS Linux AMI and a type of t2.micro\n",
    "cmp.create()\n",
    "\n",
    "# Or specify the image id (AMI ID) and the instance type (see https://aws.amazon.com/ec2/instance-types/)\n",
    "#cmp.create(imageId='ami-06ce3edf0cff21f07', instanceType='t2.micro')"
   ]
  },
  {
   "cell_type": "markdown",
   "metadata": {},
   "source": [
    "**Fit the model with the data on the ec2 instance**"
   ]
  },
  {
   "cell_type": "code",
   "execution_count": 9,
   "metadata": {
    "ExecuteTime": {
     "end_time": "2020-05-09T15:44:52.805848Z",
     "start_time": "2020-05-09T15:38:47.203934Z"
    },
    "scrolled": false
   },
   "outputs": [
    {
     "name": "stdout",
     "output_type": "stream",
     "text": [
      "Saving model.pickle\n",
      "Saving X.pickle\n",
      "Saving y.pickle\n",
      "Transfering [./temp/X.pickle] to ec2\n",
      "Transfering [./temp/y.pickle] to ec2\n",
      "Transfering [run.sh] to ec2\n",
      "Transfering [./temp/model.py] to ec2\n",
      "Transfering [./temp/requirements.txt] to ec2\n",
      "Transfering [./temp/model.pickle] to ec2\n",
      "Executing [chmod 700 run.sh]\n",
      "Out: \n",
      "Error: \n",
      "Executing [./run.sh]\n",
      "\n",
      "Stopping remote processes. (run terminate to destroy the ec2 instance)\n"
     ]
    },
    {
     "name": "stderr",
     "output_type": "stream",
     "text": [
      "ERROR:root:Internal Python error in the inspect module.\n",
      "Below is the traceback from this internal error.\n",
      "\n"
     ]
    },
    {
     "name": "stdout",
     "output_type": "stream",
     "text": [
      "Executing [pgrep run.sh | xargs pkill -9 -P]\n",
      "Out: \n",
      "Error: \n",
      "Traceback (most recent call last):\n",
      "  File \"/Users/odyssee/git/fit2ec2/fit2ec2.py\", line 157, in fit\n",
      "    self.__remote_exec([\"chmod 700 run.sh\",\"./run.sh\"])\n",
      "  File \"/Users/odyssee/git/fit2ec2/fit2ec2.py\", line 110, in __remote_exec\n",
      "    print(\"Out: {}\".format(stdout.read().decode('unicode_escape')))\n",
      "  File \"/Users/odyssee/opt/anaconda3/envs/tensorflow/lib/python3.7/site-packages/paramiko/file.py\", line 200, in read\n",
      "    new_data = self._read(self._DEFAULT_BUFSIZE)\n",
      "  File \"/Users/odyssee/opt/anaconda3/envs/tensorflow/lib/python3.7/site-packages/paramiko/channel.py\", line 1361, in _read\n",
      "    return self.channel.recv(size)\n",
      "  File \"/Users/odyssee/opt/anaconda3/envs/tensorflow/lib/python3.7/site-packages/paramiko/channel.py\", line 699, in recv\n",
      "    out = self.in_buffer.read(nbytes, self.timeout)\n",
      "  File \"/Users/odyssee/opt/anaconda3/envs/tensorflow/lib/python3.7/site-packages/paramiko/buffered_pipe.py\", line 160, in read\n",
      "    self._cv.wait(timeout)\n",
      "  File \"/Users/odyssee/opt/anaconda3/envs/tensorflow/lib/python3.7/threading.py\", line 296, in wait\n",
      "    waiter.acquire()\n",
      "KeyboardInterrupt\n",
      "\n",
      "During handling of the above exception, another exception occurred:\n",
      "\n",
      "Traceback (most recent call last):\n",
      "  File \"/Users/odyssee/opt/anaconda3/envs/tensorflow/lib/python3.7/site-packages/IPython/core/interactiveshell.py\", line 3331, in run_code\n",
      "    exec(code_obj, self.user_global_ns, self.user_ns)\n",
      "  File \"<ipython-input-9-5279238c78a4>\", line 2, in <module>\n",
      "    grid = cmp.fit(grid, X_train, y_train)\n",
      "  File \"/Users/odyssee/git/fit2ec2/fit2ec2.py\", line 164, in fit\n",
      "    sys.exit(0)\n",
      "SystemExit: 0\n",
      "\n",
      "During handling of the above exception, another exception occurred:\n",
      "\n",
      "Traceback (most recent call last):\n",
      "  File \"/Users/odyssee/opt/anaconda3/envs/tensorflow/lib/python3.7/site-packages/IPython/core/ultratb.py\", line 1148, in get_records\n",
      "    return _fixed_getinnerframes(etb, number_of_lines_of_context, tb_offset)\n",
      "  File \"/Users/odyssee/opt/anaconda3/envs/tensorflow/lib/python3.7/site-packages/IPython/core/ultratb.py\", line 316, in wrapped\n",
      "    return f(*args, **kwargs)\n",
      "  File \"/Users/odyssee/opt/anaconda3/envs/tensorflow/lib/python3.7/site-packages/IPython/core/ultratb.py\", line 350, in _fixed_getinnerframes\n",
      "    records = fix_frame_records_filenames(inspect.getinnerframes(etb, context))\n",
      "  File \"/Users/odyssee/opt/anaconda3/envs/tensorflow/lib/python3.7/inspect.py\", line 1502, in getinnerframes\n",
      "    frameinfo = (tb.tb_frame,) + getframeinfo(tb, context)\n",
      "AttributeError: 'tuple' object has no attribute 'tb_frame'\n"
     ]
    },
    {
     "ename": "SystemExit",
     "evalue": "0",
     "output_type": "error",
     "traceback": [
      "An exception has occurred, use %tb to see the full traceback.\n",
      "\u001b[0;31m---------------------------------------------------------------------------\u001b[0m",
      "\nDuring handling of the above exception, another exception occurred:\n",
      "\u001b[0;31mSystemExit\u001b[0m\u001b[0;31m:\u001b[0m 0\n"
     ]
    },
    {
     "name": "stderr",
     "output_type": "stream",
     "text": [
      "/Users/odyssee/opt/anaconda3/envs/tensorflow/lib/python3.7/site-packages/IPython/core/interactiveshell.py:3339: UserWarning: To exit: use 'exit', 'quit', or Ctrl-D.\n",
      "  warn(\"To exit: use 'exit', 'quit', or Ctrl-D.\", stacklevel=1)\n"
     ]
    }
   ],
   "source": [
    "# Better to wait 1 min before running that command\n",
    "grid = cmp.fit(grid, X_train, y_train)"
   ]
  },
  {
   "cell_type": "markdown",
   "metadata": {
    "ExecuteTime": {
     "end_time": "2020-05-09T12:05:55.570973Z",
     "start_time": "2020-05-09T12:05:55.566958Z"
    }
   },
   "source": [
    "**Terminate the ec2 instance and remove the private key**"
   ]
  },
  {
   "cell_type": "code",
   "execution_count": 10,
   "metadata": {
    "ExecuteTime": {
     "end_time": "2020-05-09T15:45:12.290860Z",
     "start_time": "2020-05-09T15:45:11.743985Z"
    }
   },
   "outputs": [
    {
     "name": "stdout",
     "output_type": "stream",
     "text": [
      "Deleting remote key pair...\n",
      "Terminate EC2 instance [i-0d76aa5e7bb20dc73]...\n",
      "Delete local key pair file...\n",
      "Done!\n"
     ]
    }
   ],
   "source": [
    "cmp.terminate()"
   ]
  },
  {
   "cell_type": "code",
   "execution_count": null,
   "metadata": {},
   "outputs": [],
   "source": []
  }
 ],
 "metadata": {
  "kernelspec": {
   "display_name": "Python 3",
   "language": "python",
   "name": "python3"
  },
  "language_info": {
   "codemirror_mode": {
    "name": "ipython",
    "version": 3
   },
   "file_extension": ".py",
   "mimetype": "text/x-python",
   "name": "python",
   "nbconvert_exporter": "python",
   "pygments_lexer": "ipython3",
   "version": "3.7.7"
  },
  "toc": {
   "base_numbering": 1,
   "nav_menu": {},
   "number_sections": true,
   "sideBar": true,
   "skip_h1_title": false,
   "title_cell": "Table of Contents",
   "title_sidebar": "Contents",
   "toc_cell": false,
   "toc_position": {},
   "toc_section_display": true,
   "toc_window_display": false
  },
  "varInspector": {
   "cols": {
    "lenName": 16,
    "lenType": 16,
    "lenVar": 40
   },
   "kernels_config": {
    "python": {
     "delete_cmd_postfix": "",
     "delete_cmd_prefix": "del ",
     "library": "var_list.py",
     "varRefreshCmd": "print(var_dic_list())"
    },
    "r": {
     "delete_cmd_postfix": ") ",
     "delete_cmd_prefix": "rm(",
     "library": "var_list.r",
     "varRefreshCmd": "cat(var_dic_list()) "
    }
   },
   "types_to_exclude": [
    "module",
    "function",
    "builtin_function_or_method",
    "instance",
    "_Feature"
   ],
   "window_display": false
  }
 },
 "nbformat": 4,
 "nbformat_minor": 4
}
