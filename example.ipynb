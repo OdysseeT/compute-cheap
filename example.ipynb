{
 "cells": [
  {
   "cell_type": "markdown",
   "metadata": {},
   "source": [
    "**Use of Grid Search with Random Forest on the Boston Housing data**"
   ]
  },
  {
   "cell_type": "markdown",
   "metadata": {},
   "source": [
    "**AWS Configuration required**\n",
    "\n",
    "Fit2ec2 use your credentials stored in ~/.aws/credential\n",
    "\n",
    "Make sure you have install aws-cli and it's configured\n",
    "\n",
    "https://docs.aws.amazon.com/cli/latest/userguide/install-cliv2.html"
   ]
  },
  {
   "cell_type": "code",
   "execution_count": 5,
   "metadata": {
    "ExecuteTime": {
     "end_time": "2020-05-09T22:30:57.710914Z",
     "start_time": "2020-05-09T22:30:57.641848Z"
    }
   },
   "outputs": [],
   "source": [
    "%load_ext autoreload\n",
    "%autoreload 2"
   ]
  },
  {
   "cell_type": "code",
   "execution_count": 4,
   "metadata": {
    "ExecuteTime": {
     "end_time": "2020-05-09T22:30:54.457606Z",
     "start_time": "2020-05-09T22:30:53.838865Z"
    }
   },
   "outputs": [],
   "source": [
    "# Import the usual suspects\n",
    "from sklearn.model_selection import train_test_split\n",
    "from sklearn.ensemble import RandomForestRegressor\n",
    "from sklearn.model_selection import GridSearchCV\n",
    "import pandas as pd\n",
    "# fit2ec2\n",
    "import fit2ec2 as fe"
   ]
  },
  {
   "cell_type": "markdown",
   "metadata": {},
   "source": [
    "**Load and Split data**"
   ]
  },
  {
   "cell_type": "code",
   "execution_count": 6,
   "metadata": {
    "ExecuteTime": {
     "end_time": "2020-05-09T22:31:00.715630Z",
     "start_time": "2020-05-09T22:31:00.609766Z"
    }
   },
   "outputs": [
    {
     "name": "stdout",
     "output_type": "stream",
     "text": [
      "(978, 246)\n"
     ]
    }
   ],
   "source": [
    "data = pd.read_csv('data/data.csv')\n",
    "\n",
    "y = np.log(data.SalePrice)\n",
    "X = data.drop(['SalePrice', 'Id'], axis=1)\n",
    "X_train, X_test, y_train, y_test = train_test_split(\n",
    "                          X, y, random_state=42, test_size=.33)\n",
    "\n",
    "print(X_train.shape)"
   ]
  },
  {
   "cell_type": "markdown",
   "metadata": {},
   "source": [
    "**Initialize the Random Forest and the Grid Search**"
   ]
  },
  {
   "cell_type": "code",
   "execution_count": 7,
   "metadata": {
    "ExecuteTime": {
     "end_time": "2020-05-09T22:31:01.186562Z",
     "start_time": "2020-05-09T22:31:01.126407Z"
    }
   },
   "outputs": [],
   "source": [
    "# Initialize Random Forest\n",
    "rf = RandomForestRegressor()"
   ]
  },
  {
   "cell_type": "code",
   "execution_count": 8,
   "metadata": {
    "ExecuteTime": {
     "end_time": "2020-05-09T22:31:01.679352Z",
     "start_time": "2020-05-09T22:31:01.610739Z"
    }
   },
   "outputs": [],
   "source": [
    "# Choose parameters for Grid Search\n",
    "rf_params = {'n_estimators': range(150, 300, 10), 'max_depth': range(3, 15, 1),'min_samples_leaf':[0.04,0.06,0.08], 'max_features':[0.2,0.4,0.6,0.8]}"
   ]
  },
  {
   "cell_type": "code",
   "execution_count": 9,
   "metadata": {
    "ExecuteTime": {
     "end_time": "2020-05-09T22:31:02.112560Z",
     "start_time": "2020-05-09T22:31:02.049667Z"
    }
   },
   "outputs": [],
   "source": [
    "# Don't forget the n_jobs parameters on a multi-cpu machine!\n",
    "grid = GridSearchCV(estimator = rf,\n",
    "                         param_grid = rf_params,\n",
    "                         cv=2,\n",
    "                         scoring='neg_mean_squared_error',\n",
    "                         verbose=1,\n",
    "                         n_jobs=-1)"
   ]
  },
  {
   "cell_type": "markdown",
   "metadata": {},
   "source": [
    "**Initialize Fit2ec2**"
   ]
  },
  {
   "cell_type": "code",
   "execution_count": 16,
   "metadata": {
    "ExecuteTime": {
     "end_time": "2020-05-09T22:35:36.265524Z",
     "start_time": "2020-05-09T22:35:36.171605Z"
    }
   },
   "outputs": [],
   "source": [
    "cmp = fe.Compute()\n",
    "\n",
    "# Or specify the private key name\n",
    "# cmpC = fe.Fit2ec2(keyname=\"mykey\")"
   ]
  },
  {
   "cell_type": "markdown",
   "metadata": {},
   "source": [
    "**Create the ec2 instance**"
   ]
  },
  {
   "cell_type": "code",
   "execution_count": 17,
   "metadata": {
    "ExecuteTime": {
     "end_time": "2020-05-09T22:35:52.723274Z",
     "start_time": "2020-05-09T22:35:38.689459Z"
    }
   },
   "outputs": [
    {
     "name": "stdout",
     "output_type": "stream",
     "text": [
      "Creating key pair [./tmp/ec2-keypair-20200510-003536.pem]\n",
      "Launching EC2 instance. Type: c5.12xlarge\n",
      "EC2 instance created:\n",
      "\tId: i-07de3d7072eaf81dd\n",
      "\tPublic IP address: 3.249.194.187\n"
     ]
    }
   ],
   "source": [
    "# Create an EC2 with the default AWS Linux AMI and a type of t2.micro\n",
    "cmp.create(instanceType=\"c5.12xlarge\")\n",
    "\n",
    "# Or specify the image id (AMI ID) and the instance type (see https://aws.amazon.com/ec2/instance-types/)\n",
    "#cmp.create(imageId='ami-06ce3edf0cff21f07', instanceType='t2.micro')"
   ]
  },
  {
   "cell_type": "markdown",
   "metadata": {},
   "source": [
    "**Fit the model with the data on the ec2 instance**"
   ]
  },
  {
   "cell_type": "code",
   "execution_count": 18,
   "metadata": {
    "ExecuteTime": {
     "end_time": "2020-05-09T22:38:05.174327Z",
     "start_time": "2020-05-09T22:36:33.535579Z"
    },
    "scrolled": false
   },
   "outputs": [
    {
     "name": "stdout",
     "output_type": "stream",
     "text": [
      "Transfering [./tmp/requirements.txt] to ec2\n",
      "Transfering [./tmp/X.pickle] to ec2\n",
      "Transfering [./tmp/y.pickle] to ec2\n",
      "Transfering [run.sh] to ec2\n",
      "Transfering [./tmp/model.pickle] to ec2\n",
      "Transfering [./tmp/model.py] to ec2\n",
      "Executing [chmod 700 run.sh]\n",
      "Out: \n",
      "Error: \n",
      "Executing [./run.sh]\n",
      "Out: Loaded plugins: extras_suggestions, langpacks, priorities, update-motd\n",
      "Resolving Dependencies\n",
      "--> Running transaction check\n",
      "---> Package python3.x86_64 0:3.7.6-1.amzn2.0.1 will be installed\n",
      "--> Processing Dependency: python3-libs(x86-64) = 3.7.6-1.amzn2.0.1 for package: python3-3.7.6-1.amzn2.0.1.x86_64\n",
      "--> Processing Dependency: python3-setuptools for package: python3-3.7.6-1.amzn2.0.1.x86_64\n",
      "--> Processing Dependency: python3-pip for package: python3-3.7.6-1.amzn2.0.1.x86_64\n",
      "--> Processing Dependency: libpython3.7m.so.1.0()(64bit) for package: python3-3.7.6-1.amzn2.0.1.x86_64\n",
      "--> Running transaction check\n",
      "---> Package python3-libs.x86_64 0:3.7.6-1.amzn2.0.1 will be installed\n",
      "---> Package python3-pip.noarch 0:9.0.3-1.amzn2.0.2 will be installed\n",
      "---> Package python3-setuptools.noarch 0:38.4.0-3.amzn2.0.6 will be installed\n",
      "--> Finished Dependency Resolution\n",
      "\n",
      "Dependencies Resolved\n",
      "\n",
      "================================================================================\n",
      " Package                Arch       Version                 Repository      Size\n",
      "================================================================================\n",
      "Installing:\n",
      " python3                x86_64     3.7.6-1.amzn2.0.1       amzn2-core      71 k\n",
      "Installing for dependencies:\n",
      " python3-libs           x86_64     3.7.6-1.amzn2.0.1       amzn2-core     9.1 M\n",
      " python3-pip            noarch     9.0.3-1.amzn2.0.2       amzn2-core     1.9 M\n",
      " python3-setuptools     noarch     38.4.0-3.amzn2.0.6      amzn2-core     617 k\n",
      "\n",
      "Transaction Summary\n",
      "================================================================================\n",
      "Install  1 Package (+3 Dependent packages)\n",
      "\n",
      "Total download size: 12 M\n",
      "Installed size: 50 M\n",
      "Downloading packages:\n",
      "--------------------------------------------------------------------------------\n",
      "Total                                               73 MB/s |  12 MB  00:00     \n",
      "Running transaction check\n",
      "Running transaction test\n",
      "Transaction test succeeded\n",
      "Running transaction\n",
      "  Installing : python3-pip-9.0.3-1.amzn2.0.2.noarch                         1/4 \n",
      "  Installing : python3-3.7.6-1.amzn2.0.1.x86_64                             2/4 \n",
      "  Installing : python3-setuptools-38.4.0-3.amzn2.0.6.noarch                 3/4 \n",
      "  Installing : python3-libs-3.7.6-1.amzn2.0.1.x86_64                        4/4 \n",
      "  Verifying  : python3-setuptools-38.4.0-3.amzn2.0.6.noarch                 1/4 \n",
      "  Verifying  : python3-pip-9.0.3-1.amzn2.0.2.noarch                         2/4 \n",
      "  Verifying  : python3-3.7.6-1.amzn2.0.1.x86_64                             3/4 \n",
      "  Verifying  : python3-libs-3.7.6-1.amzn2.0.1.x86_64                        4/4 \n",
      "\n",
      "Installed:\n",
      "  python3.x86_64 0:3.7.6-1.amzn2.0.1                                            \n",
      "\n",
      "Dependency Installed:\n",
      "  python3-libs.x86_64 0:3.7.6-1.amzn2.0.1                                       \n",
      "  python3-pip.noarch 0:9.0.3-1.amzn2.0.2                                        \n",
      "  python3-setuptools.noarch 0:38.4.0-3.amzn2.0.6                                \n",
      "\n",
      "Complete!\n",
      "Collecting pip\n",
      "  Downloading pip-20.1-py2.py3-none-any.whl (1.5 MB)\n",
      "Collecting wheel\n",
      "  Downloading wheel-0.34.2-py2.py3-none-any.whl (26 kB)\n",
      "Installing collected packages: pip, wheel\n",
      "Successfully installed pip-20.1 wheel-0.34.2\n",
      "Defaulting to user installation because normal site-packages is not writeable\n",
      "Collecting botocore==1.15.39\n",
      "  Downloading botocore-1.15.39-py2.py3-none-any.whl (6.1 MB)\n",
      "Collecting paramiko==2.7.1\n",
      "  Downloading paramiko-2.7.1-py2.py3-none-any.whl (206 kB)\n",
      "Collecting ipyparams==0.2.1\n",
      "  Downloading ipyparams-0.2.1.tar.gz (2.7 kB)\n",
      "Collecting boto3==1.12.39\n",
      "  Downloading boto3-1.12.39-py2.py3-none-any.whl (128 kB)\n",
      "Collecting pandas==1.0.3\n",
      "  Downloading pandas-1.0.3-cp37-cp37m-manylinux1_x86_64.whl (10.0 MB)\n",
      "Collecting pipreqsnb==0.1.3\n",
      "  Downloading pipreqsnb-0.1.3.tar.gz (3.0 kB)\n",
      "Collecting scikit_learn==0.22.2.post1\n",
      "  Downloading scikit_learn-0.22.2.post1-cp37-cp37m-manylinux1_x86_64.whl (7.1 MB)\n",
      "Collecting urllib3<1.26,>=1.20; python_version != \"3.4\"\n",
      "  Downloading urllib3-1.25.9-py2.py3-none-any.whl (126 kB)\n",
      "Collecting jmespath<1.0.0,>=0.7.1\n",
      "  Downloading jmespath-0.9.5-py2.py3-none-any.whl (24 kB)\n",
      "Collecting python-dateutil<3.0.0,>=2.1\n",
      "  Downloading python_dateutil-2.8.1-py2.py3-none-any.whl (227 kB)\n",
      "Collecting docutils<0.16,>=0.10\n",
      "  Downloading docutils-0.15.2-py3-none-any.whl (547 kB)\n",
      "Collecting bcrypt>=3.1.3\n",
      "  Downloading bcrypt-3.1.7-cp34-abi3-manylinux1_x86_64.whl (56 kB)\n",
      "Collecting pynacl>=1.0.1\n",
      "  Downloading PyNaCl-1.3.0-cp34-abi3-manylinux1_x86_64.whl (759 kB)\n",
      "Collecting cryptography>=2.5\n",
      "  Downloading cryptography-2.9.2-cp35-abi3-manylinux2010_x86_64.whl (2.7 MB)\n",
      "Collecting s3transfer<0.4.0,>=0.3.0\n",
      "  Downloading s3transfer-0.3.3-py2.py3-none-any.whl (69 kB)\n",
      "Collecting pytz>=2017.2\n",
      "  Downloading pytz-2020.1-py2.py3-none-any.whl (510 kB)\n",
      "Collecting numpy>=1.13.3\n",
      "  Downloading numpy-1.18.4-cp37-cp37m-manylinux1_x86_64.whl (20.2 MB)\n",
      "Collecting pipreqs\n",
      "  Downloading pipreqs-0.4.10-py2.py3-none-any.whl (25 kB)\n",
      "Collecting joblib>=0.11\n",
      "  Downloading joblib-0.14.1-py2.py3-none-any.whl (294 kB)\n",
      "Collecting scipy>=0.17.0\n",
      "  Downloading scipy-1.4.1-cp37-cp37m-manylinux1_x86_64.whl (26.1 MB)\n",
      "Collecting six>=1.5\n",
      "  Downloading six-1.14.0-py2.py3-none-any.whl (10 kB)\n",
      "Collecting cffi>=1.1\n",
      "  Downloading cffi-1.14.0-cp37-cp37m-manylinux1_x86_64.whl (400 kB)\n",
      "Collecting yarg\n",
      "  Downloading yarg-0.1.9-py2.py3-none-any.whl (19 kB)\n",
      "Collecting docopt\n",
      "  Downloading docopt-0.6.2.tar.gz (25 kB)\n",
      "Collecting pycparser\n",
      "  Downloading pycparser-2.20-py2.py3-none-any.whl (112 kB)\n",
      "Collecting requests\n",
      "  Downloading requests-2.23.0-py2.py3-none-any.whl (58 kB)\n",
      "Collecting idna<3,>=2.5\n",
      "  Downloading idna-2.9-py2.py3-none-any.whl (58 kB)\n",
      "Collecting certifi>=2017.4.17\n",
      "  Downloading certifi-2020.4.5.1-py2.py3-none-any.whl (157 kB)\n",
      "Collecting chardet<4,>=3.0.2\n",
      "  Downloading chardet-3.0.4-py2.py3-none-any.whl (133 kB)\n",
      "Building wheels for collected packages: ipyparams, pipreqsnb, docopt\n",
      "  Building wheel for ipyparams (setup.py): started\n",
      "  Building wheel for ipyparams (setup.py): finished with status 'done'\n",
      "  Created wheel for ipyparams: filename=ipyparams-0.2.1-py3-none-any.whl size=2762 sha256=c7cb6fa2625e2334d1e32b5d394c4be57da68f98a9f4d68e4071da6389bc35a2\n",
      "  Stored in directory: /home/ec2-user/.cache/pip/wheels/bb/aa/99/f2c2bae5a94158283c789294164e695c0bc1644478bcef16ae\n",
      "  Building wheel for pipreqsnb (setup.py): started\n",
      "  Building wheel for pipreqsnb (setup.py): finished with status 'done'\n",
      "  Created wheel for pipreqsnb: filename=pipreqsnb-0.1.3-py3-none-any.whl size=3421 sha256=66ae255fd90fb9d583950bb5c78f34f587c6ae0d173254c994c0b368fba12911\n",
      "  Stored in directory: /home/ec2-user/.cache/pip/wheels/ca/a8/f5/088a146e20d54020dcbeb1f4753274f9615941d6d2783cb56a\n",
      "  Building wheel for docopt (setup.py): started\n",
      "  Building wheel for docopt (setup.py): finished with status 'done'\n",
      "  Created wheel for docopt: filename=docopt-0.6.2-py2.py3-none-any.whl size=13722 sha256=86bc421ec703f2d1ac711490fb65375aa22d28540c0fd3cfa81111eb5b950657\n",
      "  Stored in directory: /home/ec2-user/.cache/pip/wheels/72/b0/3f/1d95f96ff986c7dfffe46ce2be4062f38ebd04b506c77c81b9\n",
      "Successfully built ipyparams pipreqsnb docopt\n",
      "Installing collected packages: urllib3, jmespath, six, python-dateutil, docutils, botocore, pycparser, cffi, bcrypt, pynacl, cryptography, paramiko, ipyparams, s3transfer, boto3, pytz, numpy, pandas, idna, certifi, chardet, requests, yarg, docopt, pipreqs, pipreqsnb, joblib, scipy, scikit-learn\n",
      "Successfully installed bcrypt-3.1.7 boto3-1.12.39 botocore-1.15.39 certifi-2020.4.5.1 cffi-1.14.0 chardet-3.0.4 cryptography-2.9.2 docopt-0.6.2 docutils-0.15.2 idna-2.9 ipyparams-0.2.1 jmespath-0.9.5 joblib-0.14.1 numpy-1.18.4 pandas-1.0.3 paramiko-2.7.1 pipreqs-0.4.10 pipreqsnb-0.1.3 pycparser-2.20 pynacl-1.3.0 python-dateutil-2.8.1 pytz-2020.1 requests-2.23.0 s3transfer-0.3.3 scikit-learn-0.22.2.post1 scipy-1.4.1 six-1.14.0 urllib3-1.25.9 yarg-0.1.9\n",
      "Starting\n",
      "Loading model...\n",
      "GridSearchCV(cv=2, error_score=nan,\n",
      "             estimator=RandomForestRegressor(bootstrap=True, ccp_alpha=0.0,\n",
      "                                             criterion='mse', max_depth=None,\n",
      "                                             max_features='auto',\n",
      "                                             max_leaf_nodes=None,\n",
      "                                             max_samples=None,\n",
      "                                             min_impurity_decrease=0.0,\n",
      "                                             min_impurity_split=None,\n",
      "                                             min_samples_leaf=1,\n",
      "                                             min_samples_split=2,\n",
      "                                             min_weight_fraction_leaf=0.0,\n",
      "                                             n_estimators=100, n_jobs=None,\n",
      "                                             oob_score=False, random_state=None,\n",
      "                                             verbose=0, warm_start=False),\n",
      "             iid='deprecated', n_jobs=-1,\n",
      "             param_grid={'max_depth': range(3, 15),\n",
      "                         'max_features': [0.2, 0.4, 0.6, 0.8],\n",
      "                         'min_samples_leaf': [0.04, 0.06, 0.08],\n",
      "                         'n_estimators': range(150, 300, 10)},\n",
      "             pre_dispatch='2*n_jobs', refit=True, return_train_score=False,\n",
      "             scoring='neg_mean_squared_error', verbose=1)\n",
      "Loading X data...\n",
      "Loading y data...\n",
      "Fitting the model...\n",
      "Fitting 2 folds for each of 2160 candidates, totalling 4320 fits\n",
      "Model:\n",
      "Best estimator: RandomForestRegressor(bootstrap=True, ccp_alpha=0.0, criterion='mse',\n",
      "                      max_depth=6, max_features=0.6, max_leaf_nodes=None,\n",
      "                      max_samples=None, min_impurity_decrease=0.0,\n",
      "                      min_impurity_split=None, min_samples_leaf=0.04,\n",
      "                      min_samples_split=2, min_weight_fraction_leaf=0.0,\n",
      "                      n_estimators=170, n_jobs=None, oob_score=False,\n",
      "                      random_state=None, verbose=0, warm_start=False)\n",
      "Best Params: {'max_depth': 6, 'max_features': 0.6, 'min_samples_leaf': 0.04, 'n_estimators': 170}\n",
      "Best Score: -0.03142525229239425\n",
      "Saving model...\n",
      "Done!\n",
      "\n",
      "Error:   % Total    % Received % Xferd  Average Speed   Time    Time     Time  Current\n",
      "                                 Dload  Upload   Total   Spent    Left  Speed\n",
      "100 1824k  100 1824k    0     0  36.3M      0 --:--:-- --:--:-- --:--:-- 36.3M\n",
      "/home/ec2-user/.local/lib/python3.7/site-packages/sklearn/base.py:318: UserWarning: Trying to unpickle estimator DecisionTreeRegressor from version 0.22.1 when using version 0.22.2.post1. This might lead to breaking code or invalid results. Use at your own risk.\n",
      "  UserWarning)\n",
      "/home/ec2-user/.local/lib/python3.7/site-packages/sklearn/base.py:318: UserWarning: Trying to unpickle estimator RandomForestRegressor from version 0.22.1 when using version 0.22.2.post1. This might lead to breaking code or invalid results. Use at your own risk.\n",
      "  UserWarning)\n",
      "/home/ec2-user/.local/lib/python3.7/site-packages/sklearn/base.py:318: UserWarning: Trying to unpickle estimator GridSearchCV from version 0.22.1 when using version 0.22.2.post1. This might lead to breaking code or invalid results. Use at your own risk.\n",
      "  UserWarning)\n",
      "[Parallel(n_jobs=-1)]: Using backend LokyBackend with 48 concurrent workers.\n",
      "[Parallel(n_jobs=-1)]: Done 104 tasks      | elapsed:    2.3s\n",
      "[Parallel(n_jobs=-1)]: Done 354 tasks      | elapsed:    6.1s\n",
      "[Parallel(n_jobs=-1)]: Done 704 tasks      | elapsed:   11.4s\n",
      "[Parallel(n_jobs=-1)]: Done 1154 tasks      | elapsed:   17.9s\n",
      "[Parallel(n_jobs=-1)]: Done 1704 tasks      | elapsed:   26.3s\n",
      "[Parallel(n_jobs=-1)]: Done 2354 tasks      | elapsed:   36.0s\n",
      "[Parallel(n_jobs=-1)]: Done 3104 tasks      | elapsed:   47.4s\n",
      "[Parallel(n_jobs=-1)]: Done 3954 tasks      | elapsed:  1.0min\n",
      "[Parallel(n_jobs=-1)]: Done 4320 out of 4320 | elapsed:  1.1min finished\n",
      "\n"
     ]
    },
    {
     "name": "stdout",
     "output_type": "stream",
     "text": [
      "Retrieving [./tmp/model.pickle] from ec2\n"
     ]
    },
    {
     "name": "stderr",
     "output_type": "stream",
     "text": [
      "/Users/odyssee/opt/anaconda3/envs/tensorflow/lib/python3.7/site-packages/sklearn/base.py:318: UserWarning: Trying to unpickle estimator DecisionTreeRegressor from version 0.22.2.post1 when using version 0.22.1. This might lead to breaking code or invalid results. Use at your own risk.\n",
      "  UserWarning)\n",
      "/Users/odyssee/opt/anaconda3/envs/tensorflow/lib/python3.7/site-packages/sklearn/base.py:318: UserWarning: Trying to unpickle estimator RandomForestRegressor from version 0.22.2.post1 when using version 0.22.1. This might lead to breaking code or invalid results. Use at your own risk.\n",
      "  UserWarning)\n",
      "/Users/odyssee/opt/anaconda3/envs/tensorflow/lib/python3.7/site-packages/sklearn/base.py:318: UserWarning: Trying to unpickle estimator GridSearchCV from version 0.22.2.post1 when using version 0.22.1. This might lead to breaking code or invalid results. Use at your own risk.\n",
      "  UserWarning)\n"
     ]
    }
   ],
   "source": [
    "grid = cmp.fit(grid, X_train, y_train)\n",
    "# If you get NoValidConnectionsError, better to wait 30secs for the ec2 instance to turn on"
   ]
  },
  {
   "cell_type": "code",
   "execution_count": 19,
   "metadata": {
    "ExecuteTime": {
     "end_time": "2020-05-09T22:38:05.522977Z",
     "start_time": "2020-05-09T22:38:05.475550Z"
    }
   },
   "outputs": [
    {
     "data": {
      "text/plain": [
       "-0.03142525229239425"
      ]
     },
     "execution_count": 19,
     "metadata": {},
     "output_type": "execute_result"
    }
   ],
   "source": [
    "grid.best_score_"
   ]
  },
  {
   "cell_type": "code",
   "execution_count": 20,
   "metadata": {
    "ExecuteTime": {
     "end_time": "2020-05-09T22:38:05.854369Z",
     "start_time": "2020-05-09T22:38:05.807486Z"
    }
   },
   "outputs": [
    {
     "data": {
      "text/plain": [
       "RandomForestRegressor(bootstrap=True, ccp_alpha=0.0, criterion='mse',\n",
       "                      max_depth=6, max_features=0.6, max_leaf_nodes=None,\n",
       "                      max_samples=None, min_impurity_decrease=0.0,\n",
       "                      min_impurity_split=None, min_samples_leaf=0.04,\n",
       "                      min_samples_split=2, min_weight_fraction_leaf=0.0,\n",
       "                      n_estimators=170, n_jobs=None, oob_score=False,\n",
       "                      random_state=None, verbose=0, warm_start=False)"
      ]
     },
     "execution_count": 20,
     "metadata": {},
     "output_type": "execute_result"
    }
   ],
   "source": [
    "grid.best_estimator_"
   ]
  },
  {
   "cell_type": "markdown",
   "metadata": {
    "ExecuteTime": {
     "end_time": "2020-05-09T12:05:55.570973Z",
     "start_time": "2020-05-09T12:05:55.566958Z"
    }
   },
   "source": [
    "**Terminate the ec2 instance and remove the private key**"
   ]
  },
  {
   "cell_type": "code",
   "execution_count": null,
   "metadata": {},
   "outputs": [],
   "source": []
  },
  {
   "cell_type": "code",
   "execution_count": null,
   "metadata": {},
   "outputs": [],
   "source": []
  },
  {
   "cell_type": "code",
   "execution_count": null,
   "metadata": {},
   "outputs": [],
   "source": []
  },
  {
   "cell_type": "code",
   "execution_count": 21,
   "metadata": {
    "ExecuteTime": {
     "end_time": "2020-05-09T22:39:01.414144Z",
     "start_time": "2020-05-09T22:39:00.430313Z"
    }
   },
   "outputs": [
    {
     "name": "stdout",
     "output_type": "stream",
     "text": [
      "Deleting remote key pair...\n",
      "Terminating EC2 instance [i-07de3d7072eaf81dd]\n",
      "Deleting local key pair file\n",
      "Done\n"
     ]
    }
   ],
   "source": [
    "cmp.terminate()"
   ]
  },
  {
   "cell_type": "code",
   "execution_count": null,
   "metadata": {},
   "outputs": [],
   "source": []
  }
 ],
 "metadata": {
  "kernelspec": {
   "display_name": "Python 3",
   "language": "python",
   "name": "python3"
  },
  "language_info": {
   "codemirror_mode": {
    "name": "ipython",
    "version": 3
   },
   "file_extension": ".py",
   "mimetype": "text/x-python",
   "name": "python",
   "nbconvert_exporter": "python",
   "pygments_lexer": "ipython3",
   "version": "3.7.7"
  },
  "toc": {
   "base_numbering": 1,
   "nav_menu": {},
   "number_sections": true,
   "sideBar": true,
   "skip_h1_title": false,
   "title_cell": "Table of Contents",
   "title_sidebar": "Contents",
   "toc_cell": false,
   "toc_position": {},
   "toc_section_display": true,
   "toc_window_display": false
  },
  "varInspector": {
   "cols": {
    "lenName": 16,
    "lenType": 16,
    "lenVar": 40
   },
   "kernels_config": {
    "python": {
     "delete_cmd_postfix": "",
     "delete_cmd_prefix": "del ",
     "library": "var_list.py",
     "varRefreshCmd": "print(var_dic_list())"
    },
    "r": {
     "delete_cmd_postfix": ") ",
     "delete_cmd_prefix": "rm(",
     "library": "var_list.r",
     "varRefreshCmd": "cat(var_dic_list()) "
    }
   },
   "types_to_exclude": [
    "module",
    "function",
    "builtin_function_or_method",
    "instance",
    "_Feature"
   ],
   "window_display": false
  }
 },
 "nbformat": 4,
 "nbformat_minor": 4
}
